{
 "cells": [
  {
   "cell_type": "markdown",
   "metadata": {
    "id": "LYvAOR2VzHmW"
   },
   "source": [
    "\n",
    "# **Diplomatura en Ciencia de Datos, Aprendizaje Automático y sus Aplicaciones**\n",
    "\n",
    "# *Edición 2025*\n",
    "\n",
    "---\n",
    "# Aplicaciones en Python\n",
    "\n",
    "La idea de esta notebook es poder introducir algunos conceptos básicos de estadistica descriptiva y sus aplicaciones en Python. Intentaremos familiarizarnos con algunos\n",
    "conceptos (librerias, paquetes y funciones) que nos facilitaran el camino hacia la manipulacion y procesamiento de los datos."
   ]
  },
  {
   "cell_type": "markdown",
   "metadata": {
    "id": "mScAXU4Fd9re"
   },
   "source": [
    "## Herramientas de trabajo\n",
    "En esta oportunidad vamos a utilizar el lenguaje de programación Python junto con Google Colab para realizar nuestro primer analisis de la encuesta de sueldos. Recorda que Colab es un servicio cloud basado en los Notebooks de Jupyter, por lo tanto no es necesario descargar nada. Sin embargo, si se quiere se puede usar Jupyter Lab. A su vez, nos iniciaremos en un primer uso de herramientas de software libre, es decir no necesitas una licencia para porder utilizarlas.\n",
    "\n",
    "<center>\n",
    "<img src=\"https://i.imgur.com/Cq52LcH.png\" height=\"150\" />\n",
    "</center>\n",
    "\n"
   ]
  },
  {
   "cell_type": "markdown",
   "metadata": {
    "id": "uB9-nvVAeLRC"
   },
   "source": [
    "## Pero primero: ¡Hola mundo!\n",
    "Si es tu primer experiencia con Python, usá la celda de acá abajo para probar tu primer línea de código. Para imprimirlo en pantalla escribimos print(\"Hola mundo!\")"
   ]
  },
  {
   "cell_type": "code",
   "execution_count": 1,
   "metadata": {
    "colab": {
     "base_uri": "https://localhost:8080/"
    },
    "id": "j5svoTz2eRkW",
    "outputId": "438d49bf-bb03-4ad6-ab9e-339ccb7d938d"
   },
   "outputs": [
    {
     "name": "stdout",
     "output_type": "stream",
     "text": [
      "hola mundo! bienvenidos a la Diplo!!\n"
     ]
    }
   ],
   "source": [
    "print(\"hola mundo! bienvenidos a la Diplo!!\") # Probá acá"
   ]
  },
  {
   "cell_type": "markdown",
   "metadata": {
    "id": "MwB8UHuie9Qh"
   },
   "source": [
    "## ¿Que es \"EDA\"?\n",
    "\n",
    "En sus siglas en inglés hace referencia al **Análisis Exploratorio de Datos**. Este es el primer paso que debemos realizar como Data Scientists y consta de una primera revisión del estado de los datos y los consecuentes pasos necesarios para una correcta transformación.\n",
    "\n",
    "La ciencia de datos es una disciplina que te permite convertir datos crudos en entendimiento, comprensión y conocimiento.\n",
    "\n",
    "<center>\n",
    "<img src=\"https://i.imgur.com/jclXnDS.png\" height=\"200\" />\n",
    "</center>\n",
    "\n",
    "\n",
    "En este sentido, el primer objetivo radica en preguntarnos **¿De qué se trata este dataset?**"
   ]
  },
  {
   "cell_type": "markdown",
   "metadata": {
    "id": "tqGTauDXerBG"
   },
   "source": [
    "## Importación de librerías\n",
    "\n",
    "El concepto correcto en español es \"biblioteca\". Una biblioteca es básicamente un componente de software que nos brinda acceso a distintas funcionalidades.\n",
    "Existen librerías con funciones para leer un archivo excel o csv y trabajar los datos como tablas (librería Pandas, por ejemplo), otras con funciones para graficar nuestros datos (como Seaborn), para trabajar con cálculo numérico (como Numpy).\n",
    "Cualquiera sea el lenguaje con el que se decida programar, será útil conocer mediante la página oficial del lenguaje cuáles son las librerías disponibles, que nos facilitarán, en éste caso, el análisis de datos."
   ]
  },
  {
   "cell_type": "code",
   "execution_count": 2,
   "metadata": {},
   "outputs": [
    {
     "name": "stdout",
     "output_type": "stream",
     "text": [
      "# packages in environment at /home/gonzalo/miniconda3/envs/env-diplodatos-ayvd:\n",
      "#\n",
      "# Name                    Version                   Build  Channel\n",
      "matplotlib                3.10.0          py310hff52083_0    conda-forge\n",
      "matplotlib-base           3.10.0          py310hbfdbfaf_0  \n",
      "matplotlib-inline         0.1.7              pyhd8ed1ab_1    conda-forge\n"
     ]
    }
   ],
   "source": [
    "!conda list matplotlib"
   ]
  },
  {
   "cell_type": "code",
   "execution_count": 3,
   "metadata": {
    "id": "mlMM0JkSeqkw"
   },
   "outputs": [],
   "source": [
    "import matplotlib\n",
    "import matplotlib.pyplot as plt\n",
    "import numpy as np\n",
    "import pandas as pd\n",
    "import seaborn as sns\n",
    "\n",
    "# Esto sirve para configurar el tamaño predeterminado de las figuras\n",
    "sns.set(rc={'figure.figsize':(10,6)})"
   ]
  },
  {
   "cell_type": "markdown",
   "metadata": {
    "id": "szPK4onQdemj"
   },
   "source": [
    "# Leer dataset Encuesta Sysarmy en formato csv\n",
    "\n",
    "En esta primera notebook, aprendemos cómo cargar un conjunto de datos utilizando pandas y cómo ver su contenido.\n",
    "\n",
    "Durante la materia, se trabajará con la Encuesta Sysarmy del año 2025-1 versión 2. Se trata de una encuesta personal y voluntaria que busca relevar información sobre salarios y condiciones de trabajo de programadores, que se realiza anualmente.\n",
    "\n",
    "Se analizarán sólo los datos provenientes de Argentina\n",
    "\n",
    "\n",
    "[Link a los datos](https://sysarmy.com/blog/posts/resultados-de-la-encuesta-de-sueldos-2025-1/)"
   ]
  },
  {
   "cell_type": "markdown",
   "metadata": {
    "id": "XY2Hl-Ma07Nn"
   },
   "source": [
    "## ¿Cómo leer datos desde un archivo utilizando pandas?\n"
   ]
  },
  {
   "cell_type": "code",
   "execution_count": 4,
   "metadata": {
    "id": "Xwdfo7z20TUK"
   },
   "outputs": [],
   "source": [
    "import io\n",
    "import pandas as pd\n",
    "\n",
    "# cambiar el número de filas que se mostrarán usando display.max_rows.\n",
    "# esto es para poder ver con comodidad el dataframe\n",
    "pd.set_option('display.max_rows', 4)"
   ]
  },
  {
   "cell_type": "markdown",
   "metadata": {
    "id": "2K03a1xA1Jfv"
   },
   "source": [
    "### Subiendo el archivo al entorno de Colaboratory\n",
    "\n",
    "Colaboratory no tiene acceso a nuestro sistema de archivos local (¡menos mal!). Por ello, para poder leer un archivo, primero debemos subirlo a la nube. Eso se logra con:"
   ]
  },
  {
   "cell_type": "code",
   "execution_count": 5,
   "metadata": {
    "colab": {
     "base_uri": "https://localhost:8080/",
     "height": 93
    },
    "id": "GjE6NSRdx9d4",
    "outputId": "6efa4409-ce48-434a-e96f-4a3aaecb598e"
   },
   "outputs": [],
   "source": [
    "# from google.colab import files\n",
    "# uploaded = files.upload()"
   ]
  },
  {
   "cell_type": "markdown",
   "metadata": {
    "id": "NX17LoUA1ViC"
   },
   "source": [
    "En la salida de la celda anterior, verán el texto\n",
    "\n",
    "```\n",
    "Saving 2025.1 - Sysarmy - Encuesta de remuneración salarial Argentina - Sysarmy - sueldos - 2025.01CLEAN.csv to to XXX\n",
    "```\n",
    "El texto XXX será la clave del archivo, que se utiliza para identificarlo entre todos los archivos subidos. Tener en cuenta que esta clave no necesariamente es el nombre del archivo.\n"
   ]
  },
  {
   "cell_type": "code",
   "execution_count": 6,
   "metadata": {
    "id": "__ECd-9myy6k"
   },
   "outputs": [],
   "source": [
    "# file_key = '2025.1 - Sysarmy - Encuesta de remuneración salarial Argentina - Sysarmy - sueldos - 2025.01CLEAN (1).csv'  # Replace for correspoing key\n",
    "# df = pd.read_csv(io.StringIO(uploaded[file_key].decode('utf-8')))"
   ]
  },
  {
   "cell_type": "markdown",
   "metadata": {
    "id": "vo0-WxeI16h3"
   },
   "source": [
    "Con esta operación, hemos creado un DataFrame de pandas en base al archivo de respuestas. Un DataFrame no es más que una tabla sobre la cual podemos aplicar un montón de operaciones similares a las de Excel o a las SQL. En esta notebook no pretendemos hacer un tutorial de pandas, el Internet está lleno de ellos, pero sí iremos explicando cómo implementar determinadas operaciones necesarias para el análisis de este conjunto de datos."
   ]
  },
  {
   "cell_type": "markdown",
   "metadata": {},
   "source": [
    "### Subiendo el archivo al entorno con Jupyter"
   ]
  },
  {
   "cell_type": "markdown",
   "metadata": {},
   "source": [
    "Como tenemos Jupyter, simplemente podemos descargar el `.csv`en la carpeta donde estamos parados y hacer el dataframe de la siguiente forma (más fácil):"
   ]
  },
  {
   "cell_type": "code",
   "execution_count": 7,
   "metadata": {},
   "outputs": [],
   "source": [
    "df = pd.read_csv(\"encuesta_sysarmi.csv\") # le cambiamos el nombre por comodidad"
   ]
  },
  {
   "cell_type": "markdown",
   "metadata": {},
   "source": [
    "Veamos qué valoir tiene la variable `df`."
   ]
  },
  {
   "cell_type": "code",
   "execution_count": 8,
   "metadata": {
    "colab": {
     "base_uri": "https://localhost:8080/",
     "height": 499
    },
    "id": "V5k7IUmG0ptW",
    "outputId": "41142a65-6349-497d-b064-5e8c49451fcc"
   },
   "outputs": [
    {
     "data": {
      "text/html": [
       "<div>\n",
       "<style scoped>\n",
       "    .dataframe tbody tr th:only-of-type {\n",
       "        vertical-align: middle;\n",
       "    }\n",
       "\n",
       "    .dataframe tbody tr th {\n",
       "        vertical-align: top;\n",
       "    }\n",
       "\n",
       "    .dataframe thead th {\n",
       "        text-align: right;\n",
       "    }\n",
       "</style>\n",
       "<table border=\"1\" class=\"dataframe\">\n",
       "  <thead>\n",
       "    <tr style=\"text-align: right;\">\n",
       "      <th></th>\n",
       "      <th>Para analizar los resultados podés bajar el .csv (Archivo &gt; Descargar)        \\n        \\nRecordá calificar a la empresa donde estás trabajando en www.openqube.io\\n\\nEsta obra está bajo una Licencia Creative Commons Atribución-NoComercial-CompartirIgual 4.0 Internacional.</th>\n",
       "      <th>Unnamed: 1</th>\n",
       "      <th>Unnamed: 2</th>\n",
       "      <th>Unnamed: 3</th>\n",
       "      <th>Unnamed: 4</th>\n",
       "      <th>Unnamed: 5</th>\n",
       "      <th>Unnamed: 6</th>\n",
       "      <th>Unnamed: 7</th>\n",
       "      <th>Unnamed: 8</th>\n",
       "      <th>Unnamed: 9</th>\n",
       "      <th>...</th>\n",
       "      <th>Unnamed: 41</th>\n",
       "      <th>Unnamed: 42</th>\n",
       "      <th>Unnamed: 43</th>\n",
       "      <th>Unnamed: 44</th>\n",
       "      <th>Unnamed: 45</th>\n",
       "      <th>Unnamed: 46</th>\n",
       "      <th>Unnamed: 47</th>\n",
       "      <th>Unnamed: 48</th>\n",
       "      <th>Unnamed: 49</th>\n",
       "      <th>Unnamed: 50</th>\n",
       "    </tr>\n",
       "  </thead>\n",
       "  <tbody>\n",
       "    <tr>\n",
       "      <th>0</th>\n",
       "      <td>NaN</td>\n",
       "      <td>NaN</td>\n",
       "      <td>NaN</td>\n",
       "      <td>NaN</td>\n",
       "      <td>NaN</td>\n",
       "      <td>NaN</td>\n",
       "      <td>NaN</td>\n",
       "      <td>NaN</td>\n",
       "      <td>NaN</td>\n",
       "      <td>NaN</td>\n",
       "      <td>...</td>\n",
       "      <td>NaN</td>\n",
       "      <td>NaN</td>\n",
       "      <td>NaN</td>\n",
       "      <td>NaN</td>\n",
       "      <td>NaN</td>\n",
       "      <td>NaN</td>\n",
       "      <td>NaN</td>\n",
       "      <td>NaN</td>\n",
       "      <td>NaN</td>\n",
       "      <td>NaN</td>\n",
       "    </tr>\n",
       "    <tr>\n",
       "      <th>1</th>\n",
       "      <td>NaN</td>\n",
       "      <td>NaN</td>\n",
       "      <td>NaN</td>\n",
       "      <td>NaN</td>\n",
       "      <td>NaN</td>\n",
       "      <td>NaN</td>\n",
       "      <td>NaN</td>\n",
       "      <td>NaN</td>\n",
       "      <td>NaN</td>\n",
       "      <td>NaN</td>\n",
       "      <td>...</td>\n",
       "      <td>NaN</td>\n",
       "      <td>NaN</td>\n",
       "      <td>NaN</td>\n",
       "      <td>NaN</td>\n",
       "      <td>NaN</td>\n",
       "      <td>NaN</td>\n",
       "      <td>NaN</td>\n",
       "      <td>NaN</td>\n",
       "      <td>NaN</td>\n",
       "      <td>NaN</td>\n",
       "    </tr>\n",
       "    <tr>\n",
       "      <th>...</th>\n",
       "      <td>...</td>\n",
       "      <td>...</td>\n",
       "      <td>...</td>\n",
       "      <td>...</td>\n",
       "      <td>...</td>\n",
       "      <td>...</td>\n",
       "      <td>...</td>\n",
       "      <td>...</td>\n",
       "      <td>...</td>\n",
       "      <td>...</td>\n",
       "      <td>...</td>\n",
       "      <td>...</td>\n",
       "      <td>...</td>\n",
       "      <td>...</td>\n",
       "      <td>...</td>\n",
       "      <td>...</td>\n",
       "      <td>...</td>\n",
       "      <td>...</td>\n",
       "      <td>...</td>\n",
       "      <td>...</td>\n",
       "      <td>...</td>\n",
       "    </tr>\n",
       "    <tr>\n",
       "      <th>8</th>\n",
       "      <td>NaN</td>\n",
       "      <td>donde_estas_trabajando</td>\n",
       "      <td>dedicacion</td>\n",
       "      <td>tipo_de_contrato</td>\n",
       "      <td>ultimo_salario_mensual_o_retiro_bruto_en_pesos...</td>\n",
       "      <td>ultimo_salario_mensual_o_retiro_neto_en_pesos_...</td>\n",
       "      <td>pagos_en_dolares</td>\n",
       "      <td>si_tu_sueldo_esta_dolarizado_cual_fue_el_ultim...</td>\n",
       "      <td>recibis_algun_tipo_de_bono</td>\n",
       "      <td>a_que_esta_atado_el_bono</td>\n",
       "      <td>...</td>\n",
       "      <td>salir_o_seguir_contestando_sobre_las_guardias</td>\n",
       "      <td>tenes_guardias</td>\n",
       "      <td>cuanto_cobras_por_guardia</td>\n",
       "      <td>aclara_el_numero_que_ingresaste_en_el_campo_an...</td>\n",
       "      <td>tengo_edad</td>\n",
       "      <td>genero</td>\n",
       "      <td>habias_respondido_nuestra_encuesta_en_edicione...</td>\n",
       "      <td>sueldo_dolarizado</td>\n",
       "      <td>seniority</td>\n",
       "      <td>_sal</td>\n",
       "    </tr>\n",
       "    <tr>\n",
       "      <th>9</th>\n",
       "      <td>0.0</td>\n",
       "      <td>Ciudad Autónoma de Buenos Aires</td>\n",
       "      <td>Part-Time</td>\n",
       "      <td>Staff (planta permanente)</td>\n",
       "      <td>6500000</td>\n",
       "      <td>5800000</td>\n",
       "      <td>Cobro parte del salario en dólares</td>\n",
       "      <td>NaN</td>\n",
       "      <td>De uno a tres sueldos</td>\n",
       "      <td>Performance de la compañía</td>\n",
       "      <td>...</td>\n",
       "      <td>NaN</td>\n",
       "      <td>NaN</td>\n",
       "      <td>NaN</td>\n",
       "      <td>NaN</td>\n",
       "      <td>45</td>\n",
       "      <td>Hombre Cis</td>\n",
       "      <td>Sí</td>\n",
       "      <td>TRUE</td>\n",
       "      <td>Senior</td>\n",
       "      <td>6500000</td>\n",
       "    </tr>\n",
       "  </tbody>\n",
       "</table>\n",
       "<p>10 rows × 51 columns</p>\n",
       "</div>"
      ],
      "text/plain": [
       "    Para analizar los resultados podés bajar el .csv (Archivo > Descargar)        \\n        \\nRecordá calificar a la empresa donde estás trabajando en www.openqube.io\\n\\nEsta obra está bajo una Licencia Creative Commons Atribución-NoComercial-CompartirIgual 4.0 Internacional.  \\\n",
       "0                                                 NaN                                                                                                                                                                                                                                  \n",
       "1                                                 NaN                                                                                                                                                                                                                                  \n",
       "..                                                ...                                                                                                                                                                                                                                  \n",
       "8                                                 NaN                                                                                                                                                                                                                                  \n",
       "9                                                 0.0                                                                                                                                                                                                                                  \n",
       "\n",
       "                         Unnamed: 1  Unnamed: 2                 Unnamed: 3  \\\n",
       "0                               NaN         NaN                        NaN   \n",
       "1                               NaN         NaN                        NaN   \n",
       "..                              ...         ...                        ...   \n",
       "8            donde_estas_trabajando  dedicacion           tipo_de_contrato   \n",
       "9   Ciudad Autónoma de Buenos Aires   Part-Time  Staff (planta permanente)   \n",
       "\n",
       "                                           Unnamed: 4  \\\n",
       "0                                                 NaN   \n",
       "1                                                 NaN   \n",
       "..                                                ...   \n",
       "8   ultimo_salario_mensual_o_retiro_bruto_en_pesos...   \n",
       "9                                             6500000   \n",
       "\n",
       "                                           Unnamed: 5  \\\n",
       "0                                                 NaN   \n",
       "1                                                 NaN   \n",
       "..                                                ...   \n",
       "8   ultimo_salario_mensual_o_retiro_neto_en_pesos_...   \n",
       "9                                             5800000   \n",
       "\n",
       "                            Unnamed: 6  \\\n",
       "0                                  NaN   \n",
       "1                                  NaN   \n",
       "..                                 ...   \n",
       "8                     pagos_en_dolares   \n",
       "9   Cobro parte del salario en dólares   \n",
       "\n",
       "                                           Unnamed: 7  \\\n",
       "0                                                 NaN   \n",
       "1                                                 NaN   \n",
       "..                                                ...   \n",
       "8   si_tu_sueldo_esta_dolarizado_cual_fue_el_ultim...   \n",
       "9                                                 NaN   \n",
       "\n",
       "                    Unnamed: 8                  Unnamed: 9  ...  \\\n",
       "0                          NaN                         NaN  ...   \n",
       "1                          NaN                         NaN  ...   \n",
       "..                         ...                         ...  ...   \n",
       "8   recibis_algun_tipo_de_bono    a_que_esta_atado_el_bono  ...   \n",
       "9        De uno a tres sueldos  Performance de la compañía  ...   \n",
       "\n",
       "                                      Unnamed: 41     Unnamed: 42  \\\n",
       "0                                             NaN             NaN   \n",
       "1                                             NaN             NaN   \n",
       "..                                            ...             ...   \n",
       "8   salir_o_seguir_contestando_sobre_las_guardias  tenes_guardias   \n",
       "9                                             NaN             NaN   \n",
       "\n",
       "                  Unnamed: 43  \\\n",
       "0                         NaN   \n",
       "1                         NaN   \n",
       "..                        ...   \n",
       "8   cuanto_cobras_por_guardia   \n",
       "9                         NaN   \n",
       "\n",
       "                                          Unnamed: 44 Unnamed: 45 Unnamed: 46  \\\n",
       "0                                                 NaN         NaN         NaN   \n",
       "1                                                 NaN         NaN         NaN   \n",
       "..                                                ...         ...         ...   \n",
       "8   aclara_el_numero_que_ingresaste_en_el_campo_an...  tengo_edad      genero   \n",
       "9                                                 NaN          45  Hombre Cis   \n",
       "\n",
       "                                          Unnamed: 47        Unnamed: 48  \\\n",
       "0                                                 NaN                NaN   \n",
       "1                                                 NaN                NaN   \n",
       "..                                                ...                ...   \n",
       "8   habias_respondido_nuestra_encuesta_en_edicione...  sueldo_dolarizado   \n",
       "9                                                  Sí               TRUE   \n",
       "\n",
       "   Unnamed: 49 Unnamed: 50  \n",
       "0          NaN         NaN  \n",
       "1          NaN         NaN  \n",
       "..         ...         ...  \n",
       "8    seniority        _sal  \n",
       "9       Senior     6500000  \n",
       "\n",
       "[10 rows x 51 columns]"
      ]
     },
     "execution_count": 8,
     "metadata": {},
     "output_type": "execute_result"
    }
   ],
   "source": [
    "df[:10]"
   ]
  },
  {
   "cell_type": "markdown",
   "metadata": {
    "id": "LE_XEAA02Fro"
   },
   "source": [
    "## Selección de filas\n",
    "\n",
    "¡No es lo que esperamos! Si vemos el conjunto de datos, efectivamente tiene celdas en blanco en la parte superior, y el nombre de las columnas aparece en la fila 9. Con Pandas podemos manejar estas situaciones pasando argumentos específicos a la función `pd.read_csv`"
   ]
  },
  {
   "cell_type": "code",
   "execution_count": 9,
   "metadata": {
    "id": "qlUQleaS2cYL"
   },
   "outputs": [],
   "source": [
    "# En colab se hacía así\n",
    "# df_fixed = pd.read_csv(\n",
    "#     io.StringIO(uploaded[file_key].decode('utf-8')),\n",
    "#     skiprows=range(8), header=1)"
   ]
  },
  {
   "cell_type": "code",
   "execution_count": 10,
   "metadata": {},
   "outputs": [],
   "source": [
    "df_fixed = pd.read_csv(\n",
    "    \"encuesta_sysarmi.csv\",\n",
    "    skiprows=range(8), header=1)"
   ]
  },
  {
   "cell_type": "code",
   "execution_count": 11,
   "metadata": {
    "colab": {
     "base_uri": "https://localhost:8080/",
     "height": 262
    },
    "id": "mxS1Zwnn3uC4",
    "outputId": "a1c2bb87-75f0-4a1f-9011-d7468358bd25"
   },
   "outputs": [
    {
     "data": {
      "text/html": [
       "<div>\n",
       "<style scoped>\n",
       "    .dataframe tbody tr th:only-of-type {\n",
       "        vertical-align: middle;\n",
       "    }\n",
       "\n",
       "    .dataframe tbody tr th {\n",
       "        vertical-align: top;\n",
       "    }\n",
       "\n",
       "    .dataframe thead th {\n",
       "        text-align: right;\n",
       "    }\n",
       "</style>\n",
       "<table border=\"1\" class=\"dataframe\">\n",
       "  <thead>\n",
       "    <tr style=\"text-align: right;\">\n",
       "      <th></th>\n",
       "      <th>Unnamed: 0</th>\n",
       "      <th>donde_estas_trabajando</th>\n",
       "      <th>dedicacion</th>\n",
       "      <th>tipo_de_contrato</th>\n",
       "      <th>ultimo_salario_mensual_o_retiro_bruto_en_pesos_argentinos</th>\n",
       "      <th>ultimo_salario_mensual_o_retiro_neto_en_pesos_argentinos</th>\n",
       "      <th>pagos_en_dolares</th>\n",
       "      <th>si_tu_sueldo_esta_dolarizado_cual_fue_el_ultimo_valor_del_dolar_que_tomaron</th>\n",
       "      <th>recibis_algun_tipo_de_bono</th>\n",
       "      <th>a_que_esta_atado_el_bono</th>\n",
       "      <th>...</th>\n",
       "      <th>salir_o_seguir_contestando_sobre_las_guardias</th>\n",
       "      <th>tenes_guardias</th>\n",
       "      <th>cuanto_cobras_por_guardia</th>\n",
       "      <th>aclara_el_numero_que_ingresaste_en_el_campo_anterior</th>\n",
       "      <th>tengo_edad</th>\n",
       "      <th>genero</th>\n",
       "      <th>habias_respondido_nuestra_encuesta_en_ediciones_anteriores</th>\n",
       "      <th>sueldo_dolarizado</th>\n",
       "      <th>seniority</th>\n",
       "      <th>_sal</th>\n",
       "    </tr>\n",
       "  </thead>\n",
       "  <tbody>\n",
       "    <tr>\n",
       "      <th>0</th>\n",
       "      <td>0</td>\n",
       "      <td>Ciudad Autónoma de Buenos Aires</td>\n",
       "      <td>Part-Time</td>\n",
       "      <td>Staff (planta permanente)</td>\n",
       "      <td>6500000.0</td>\n",
       "      <td>5800000.0</td>\n",
       "      <td>Cobro parte del salario en dólares</td>\n",
       "      <td>NaN</td>\n",
       "      <td>De uno a tres sueldos</td>\n",
       "      <td>Performance de la compañía</td>\n",
       "      <td>...</td>\n",
       "      <td>NaN</td>\n",
       "      <td>NaN</td>\n",
       "      <td>NaN</td>\n",
       "      <td>NaN</td>\n",
       "      <td>45</td>\n",
       "      <td>Hombre Cis</td>\n",
       "      <td>Sí</td>\n",
       "      <td>True</td>\n",
       "      <td>Senior</td>\n",
       "      <td>6500000.0</td>\n",
       "    </tr>\n",
       "    <tr>\n",
       "      <th>1</th>\n",
       "      <td>1</td>\n",
       "      <td>Ciudad Autónoma de Buenos Aires</td>\n",
       "      <td>Full-Time</td>\n",
       "      <td>Contractor</td>\n",
       "      <td>12700000.0</td>\n",
       "      <td>10200000.0</td>\n",
       "      <td>Cobro todo el salario en dólares</td>\n",
       "      <td>NaN</td>\n",
       "      <td>Un sueldo</td>\n",
       "      <td>Performance de la compañía</td>\n",
       "      <td>...</td>\n",
       "      <td>Terminar encuesta</td>\n",
       "      <td>No</td>\n",
       "      <td>0.0</td>\n",
       "      <td>Bruto</td>\n",
       "      <td>32</td>\n",
       "      <td>Mujer Cis</td>\n",
       "      <td>Sí</td>\n",
       "      <td>True</td>\n",
       "      <td>Senior</td>\n",
       "      <td>12700000.0</td>\n",
       "    </tr>\n",
       "    <tr>\n",
       "      <th>2</th>\n",
       "      <td>2</td>\n",
       "      <td>Córdoba</td>\n",
       "      <td>Full-Time</td>\n",
       "      <td>Staff (planta permanente)</td>\n",
       "      <td>3952805.0</td>\n",
       "      <td>3137662.0</td>\n",
       "      <td>Cobro parte del salario en dólares</td>\n",
       "      <td>985</td>\n",
       "      <td>No</td>\n",
       "      <td>No recibo bono</td>\n",
       "      <td>...</td>\n",
       "      <td>NaN</td>\n",
       "      <td>NaN</td>\n",
       "      <td>NaN</td>\n",
       "      <td>NaN</td>\n",
       "      <td>29</td>\n",
       "      <td>Hombre Cis</td>\n",
       "      <td>Sí</td>\n",
       "      <td>True</td>\n",
       "      <td>Semi-Senior</td>\n",
       "      <td>3952805.0</td>\n",
       "    </tr>\n",
       "  </tbody>\n",
       "</table>\n",
       "<p>3 rows × 51 columns</p>\n",
       "</div>"
      ],
      "text/plain": [
       "   Unnamed: 0           donde_estas_trabajando dedicacion  \\\n",
       "0           0  Ciudad Autónoma de Buenos Aires  Part-Time   \n",
       "1           1  Ciudad Autónoma de Buenos Aires  Full-Time   \n",
       "2           2                          Córdoba  Full-Time   \n",
       "\n",
       "            tipo_de_contrato  \\\n",
       "0  Staff (planta permanente)   \n",
       "1                 Contractor   \n",
       "2  Staff (planta permanente)   \n",
       "\n",
       "   ultimo_salario_mensual_o_retiro_bruto_en_pesos_argentinos  \\\n",
       "0                                          6500000.0           \n",
       "1                                         12700000.0           \n",
       "2                                          3952805.0           \n",
       "\n",
       "   ultimo_salario_mensual_o_retiro_neto_en_pesos_argentinos  \\\n",
       "0                                          5800000.0          \n",
       "1                                         10200000.0          \n",
       "2                                          3137662.0          \n",
       "\n",
       "                     pagos_en_dolares  \\\n",
       "0  Cobro parte del salario en dólares   \n",
       "1    Cobro todo el salario en dólares   \n",
       "2  Cobro parte del salario en dólares   \n",
       "\n",
       "  si_tu_sueldo_esta_dolarizado_cual_fue_el_ultimo_valor_del_dolar_que_tomaron  \\\n",
       "0                                                NaN                            \n",
       "1                                                NaN                            \n",
       "2                                                985                            \n",
       "\n",
       "  recibis_algun_tipo_de_bono    a_que_esta_atado_el_bono  ...  \\\n",
       "0      De uno a tres sueldos  Performance de la compañía  ...   \n",
       "1                  Un sueldo  Performance de la compañía  ...   \n",
       "2                         No              No recibo bono  ...   \n",
       "\n",
       "  salir_o_seguir_contestando_sobre_las_guardias  tenes_guardias  \\\n",
       "0                                           NaN             NaN   \n",
       "1                             Terminar encuesta              No   \n",
       "2                                           NaN             NaN   \n",
       "\n",
       "  cuanto_cobras_por_guardia  \\\n",
       "0                       NaN   \n",
       "1                       0.0   \n",
       "2                       NaN   \n",
       "\n",
       "   aclara_el_numero_que_ingresaste_en_el_campo_anterior tengo_edad  \\\n",
       "0                                                NaN            45   \n",
       "1                                              Bruto            32   \n",
       "2                                                NaN            29   \n",
       "\n",
       "       genero habias_respondido_nuestra_encuesta_en_ediciones_anteriores  \\\n",
       "0  Hombre Cis                                                 Sí           \n",
       "1   Mujer Cis                                                 Sí           \n",
       "2  Hombre Cis                                                 Sí           \n",
       "\n",
       "  sueldo_dolarizado    seniority        _sal  \n",
       "0              True       Senior   6500000.0  \n",
       "1              True       Senior  12700000.0  \n",
       "2              True  Semi-Senior   3952805.0  \n",
       "\n",
       "[3 rows x 51 columns]"
      ]
     },
     "execution_count": 11,
     "metadata": {},
     "output_type": "execute_result"
    }
   ],
   "source": [
    "df_fixed[:3]"
   ]
  },
  {
   "cell_type": "markdown",
   "metadata": {
    "id": "7hPqJAun2h5A"
   },
   "source": [
    "## Renombrar columnas"
   ]
  },
  {
   "cell_type": "markdown",
   "metadata": {
    "id": "sO9wLpYI0l64"
   },
   "source": [
    "Para trabajar más cómodamente, renombraremos las columnas de DataFrame. Tengan cuidado de que el orden de los nombres nuevos se corresponda con el contenido de cada columna.\n"
   ]
  },
  {
   "cell_type": "code",
   "execution_count": 12,
   "metadata": {
    "colab": {
     "base_uri": "https://localhost:8080/"
    },
    "id": "K_G1sEljywQ3",
    "outputId": "1636a8f1-de24-445f-de08-eb7455f20eec"
   },
   "outputs": [
    {
     "data": {
      "text/plain": [
       "Index(['Unnamed: 0', 'donde_estas_trabajando', 'dedicacion',\n",
       "       'tipo_de_contrato',\n",
       "       'ultimo_salario_mensual_o_retiro_bruto_en_pesos_argentinos',\n",
       "       'ultimo_salario_mensual_o_retiro_neto_en_pesos_argentinos',\n",
       "       'pagos_en_dolares',\n",
       "       'si_tu_sueldo_esta_dolarizado_cual_fue_el_ultimo_valor_del_dolar_que_tomaron',\n",
       "       'recibis_algun_tipo_de_bono', 'a_que_esta_atado_el_bono',\n",
       "       'tuviste_actualizaciones_de_tus_ingresos_laborales_durante_2024',\n",
       "       'de_que_fue_el_ajuste_total_acumulado',\n",
       "       'en_que_mes_fue_el_ultimo_ajuste',\n",
       "       'como_consideras_que_estan_tus_ingresos_laborales_comparados_con_el_semestre_anterior',\n",
       "       'contas_con_beneficios_adicionales',\n",
       "       'que_tan_conforme_estas_con_tus_ingresos_laborales',\n",
       "       'estas_buscando_trabajo', 'pluriempleo', 'trabajo_de',\n",
       "       'anos_de_experiencia', 'antiguedad_en_la_empresa_actual',\n",
       "       'anos_en_el_puesto_actual', 'cuantas_personas_tenes_a_cargo',\n",
       "       'plataformas_que_utilizas_en_tu_puesto_actual',\n",
       "       'lenguajes_de_programacion_o_tecnologias_que_utilices_en_tu_puesto_actual',\n",
       "       'frameworksherramientas_y_librerias_que_utilices_en_tu_puesto_actual',\n",
       "       'bases_de_datos', 'qa_testing',\n",
       "       'cantidad_de_personas_en_tu_organizacion', 'modalidad_de_trabajo',\n",
       "       'si_trabajas_bajo_un_esquema_hibrido_cuantos_dias_a_la_semana_vas_a_la_oficina',\n",
       "       'en_los_ultimos_6_mesesse_aplico_alguna_politica_de_ajustes_salariales',\n",
       "       'opcionalen_que_empresaorganizacion_estas_trabajando',\n",
       "       'la_recomendas_como_un_buen_lugar_para_trabajar',\n",
       "       'que_tanto_estas_usando_copilotchatgpt_u_otras_herramientas_de_ia_para_tu_trabajo',\n",
       "       'algo_que_quieras_decir_sobre_tu_trabajo', 'salir_o_seguir_contestando',\n",
       "       'maximo_nivel_de_estudios', 'estado', 'carrera',\n",
       "       'institucion_educativa',\n",
       "       'salir_o_seguir_contestando_sobre_las_guardias', 'tenes_guardias',\n",
       "       'cuanto_cobras_por_guardia',\n",
       "       'aclara_el_numero_que_ingresaste_en_el_campo_anterior', 'tengo_edad',\n",
       "       'genero', 'habias_respondido_nuestra_encuesta_en_ediciones_anteriores',\n",
       "       'sueldo_dolarizado', 'seniority', '_sal'],\n",
       "      dtype='object')"
      ]
     },
     "execution_count": 12,
     "metadata": {},
     "output_type": "execute_result"
    }
   ],
   "source": [
    "df_fixed.columns"
   ]
  },
  {
   "cell_type": "code",
   "execution_count": 13,
   "metadata": {
    "id": "mhhPGu3L6N75"
   },
   "outputs": [],
   "source": [
    "# defino las nuevas columnas. El diccionario primero separa por categorías.\n",
    "# luego especifica cada nombre\n",
    "new_columns = {\n",
    "    'profile': {\n",
    "      'genero': 'gender', #\n",
    "      'tengo_edad': 'age', #\n",
    "      'anos_de_experiencia': 'years_experience', #\n",
    "      'maximo_nivel_de_estudios': 'studies_level', #\n",
    "      'estado': 'studies_level_state', #\n",
    "      'carrera': 'career', #\n",
    "      'institucion_educativa': 'university' #\n",
    "  },\n",
    "  'work' : {\n",
    "      'donde_estas_trabajando': 'province', #\n",
    "      'antiguedad_en_la_empresa_actual': 'years_in_company', #\n",
    "      'anos_en_el_puesto_actual': 'years_in_current_position', #\n",
    "      'cuantas_personas_tenes_a_cargo': 'people_in_charge_of', #\n",
    "      'tenes_guardias': 'on_call_duty', #\n",
    "      'modalidad_de_trabajo':'work_modality', #\n",
    "      'tipo_de_contrato':'contract_type', #\n",
    "      'dedicacion': 'dedication' #\n",
    "  },\n",
    "  'tools': {\n",
    "      'plataformas_que_utilizas_en_tu_puesto_actual': 'platform', #\n",
    "      'lenguajes_de_programacion_o_tecnologias_que_utilices_en_tu_puesto_actual': 'programming_languages', #\n",
    "      'frameworksherramientas_y_librerias_que_utilices_en_tu_puesto_actual': 'frameworks', #\n",
    "      'bases_de_datos': 'data_bases', #\n",
    "      'qa_testing': 'qa_testing', #\n",
    "      '¿Qué SO usás en tu laptop/PC para trabajar?': 'work_pc_os',\n",
    "      'que_tanto_estas_usando_copilotchatgpt_u_otras_herramientas_de_ia_para_tu_trabajo':'copilotchatgpt' #\n",
    "  },\n",
    "  'salary': {\n",
    "      'cuanto_cobras_por_guardia': 'on_call_duty_charge', #\n",
    "      'ultimo_salario_mensual_o_retiro_bruto_en_pesos_argentinos': 'monthly_BRUTO', #\n",
    "      'ultimo_salario_mensual_o_retiro_neto_en_pesos_argentinos': 'monthly_NETO', #\n",
    "      'pagos_en_dolares': 'in_usd', #\n",
    "      'si_tu_sueldo_esta_dolarizado_cual_fue_el_ultimo_valor_del_dolar_que_tomaron':'last_dollar_value', #\n",
    "      'que_tan_conforme_estas_con_tus_ingresos_laborales': 'satisfaction', #\n",
    "      'como_consideras_que_estan_tus_ingresos_laborales_comparados_con_el_semestre_anterior': 'comparison_last_semester', #\n",
    "      'recibis_algun_tipo_de_bono': 'has_bonus', #\n",
    "      'a_que_esta_atado_el_bono': 'bonus_tied_to', #\n",
    "      'tuviste_actualizaciones_de_tus_ingresos_laborales_durante_2024': 'inflation_adjustment', #\n",
    "      'de_que_fue_el_ajuste_total_acumulado': 'percentage_inflation_adjustment', #\n",
    "      'en_que_mes_fue_el_ultimo_ajuste': 'month_last_inflation_adjustment', #\n",
    "      'contas_con_beneficios_adicionales':'benefit' #\n",
    "  },\n",
    "  'company' : {\n",
    "      'cantidad_de_personas_en_tu_organizacion': 'employee_number', #\n",
    "      'trabajo_de': 'main_activity', #\n",
    "      'la_recomendas_como_un_buen_lugar_para_trabajar': 'recommended', #\n",
    "      'si_trabajas_bajo_un_esquema_hibrido_cuantos_dias_a_la_semana_vas_a_la_oficina':'days_in_the_office' #\n",
    "  }\n",
    "}\n"
   ]
  },
  {
   "cell_type": "code",
   "execution_count": 14,
   "metadata": {
    "id": "r0xlsKaBk0RL"
   },
   "outputs": [],
   "source": [
    "# defino una funcion para reemplazar el nombre\n",
    "# le debo pasar el dataframe y los nombres de las nuevas columnas\n",
    "def replace_columns(df, new_columns):\n",
    "    # los nuevos nombres van a ser \"categoria_nombrenuevo\"\n",
    "    new_col_names = {\n",
    "        # esto me asocia el nombre original al nombre nuevo\n",
    "        original_name: category + '_' + new_name\n",
    "        # category toma el valor de la clave externa (por ejemplo: 'profile')\n",
    "        # cols toma el diccionario interno (por ejemplo: {'genero': 'gender', 'tengo_edad': 'age', ...})\n",
    "        for category, cols in new_columns.items()\n",
    "        # para todos los nombres originales y nombres nuevos tomados de los diccionarios de cols\n",
    "        for original_name, new_name in cols.items()\n",
    "      }\n",
    "    # devolvemos el nuevo df\n",
    "    return df.rename(columns=new_col_names)"
   ]
  },
  {
   "cell_type": "code",
   "execution_count": 15,
   "metadata": {
    "colab": {
     "base_uri": "https://localhost:8080/",
     "height": 248
    },
    "id": "Vviv_sqXdR5W",
    "outputId": "e45a035b-ed31-4b91-b943-bb92b5737bee"
   },
   "outputs": [
    {
     "data": {
      "text/html": [
       "<div>\n",
       "<style scoped>\n",
       "    .dataframe tbody tr th:only-of-type {\n",
       "        vertical-align: middle;\n",
       "    }\n",
       "\n",
       "    .dataframe tbody tr th {\n",
       "        vertical-align: top;\n",
       "    }\n",
       "\n",
       "    .dataframe thead th {\n",
       "        text-align: right;\n",
       "    }\n",
       "</style>\n",
       "<table border=\"1\" class=\"dataframe\">\n",
       "  <thead>\n",
       "    <tr style=\"text-align: right;\">\n",
       "      <th></th>\n",
       "      <th>Unnamed: 0</th>\n",
       "      <th>work_province</th>\n",
       "      <th>work_dedication</th>\n",
       "      <th>work_contract_type</th>\n",
       "      <th>salary_monthly_BRUTO</th>\n",
       "      <th>salary_monthly_NETO</th>\n",
       "      <th>salary_in_usd</th>\n",
       "      <th>salary_last_dollar_value</th>\n",
       "      <th>salary_has_bonus</th>\n",
       "      <th>salary_bonus_tied_to</th>\n",
       "      <th>...</th>\n",
       "      <th>salir_o_seguir_contestando_sobre_las_guardias</th>\n",
       "      <th>work_on_call_duty</th>\n",
       "      <th>salary_on_call_duty_charge</th>\n",
       "      <th>aclara_el_numero_que_ingresaste_en_el_campo_anterior</th>\n",
       "      <th>profile_age</th>\n",
       "      <th>profile_gender</th>\n",
       "      <th>habias_respondido_nuestra_encuesta_en_ediciones_anteriores</th>\n",
       "      <th>sueldo_dolarizado</th>\n",
       "      <th>seniority</th>\n",
       "      <th>_sal</th>\n",
       "    </tr>\n",
       "  </thead>\n",
       "  <tbody>\n",
       "    <tr>\n",
       "      <th>0</th>\n",
       "      <td>0</td>\n",
       "      <td>Ciudad Autónoma de Buenos Aires</td>\n",
       "      <td>Part-Time</td>\n",
       "      <td>Staff (planta permanente)</td>\n",
       "      <td>6500000.0</td>\n",
       "      <td>5800000.0</td>\n",
       "      <td>Cobro parte del salario en dólares</td>\n",
       "      <td>NaN</td>\n",
       "      <td>De uno a tres sueldos</td>\n",
       "      <td>Performance de la compañía</td>\n",
       "      <td>...</td>\n",
       "      <td>NaN</td>\n",
       "      <td>NaN</td>\n",
       "      <td>NaN</td>\n",
       "      <td>NaN</td>\n",
       "      <td>45</td>\n",
       "      <td>Hombre Cis</td>\n",
       "      <td>Sí</td>\n",
       "      <td>True</td>\n",
       "      <td>Senior</td>\n",
       "      <td>6500000.0</td>\n",
       "    </tr>\n",
       "    <tr>\n",
       "      <th>1</th>\n",
       "      <td>1</td>\n",
       "      <td>Ciudad Autónoma de Buenos Aires</td>\n",
       "      <td>Full-Time</td>\n",
       "      <td>Contractor</td>\n",
       "      <td>12700000.0</td>\n",
       "      <td>10200000.0</td>\n",
       "      <td>Cobro todo el salario en dólares</td>\n",
       "      <td>NaN</td>\n",
       "      <td>Un sueldo</td>\n",
       "      <td>Performance de la compañía</td>\n",
       "      <td>...</td>\n",
       "      <td>Terminar encuesta</td>\n",
       "      <td>No</td>\n",
       "      <td>0.0</td>\n",
       "      <td>Bruto</td>\n",
       "      <td>32</td>\n",
       "      <td>Mujer Cis</td>\n",
       "      <td>Sí</td>\n",
       "      <td>True</td>\n",
       "      <td>Senior</td>\n",
       "      <td>12700000.0</td>\n",
       "    </tr>\n",
       "  </tbody>\n",
       "</table>\n",
       "<p>2 rows × 51 columns</p>\n",
       "</div>"
      ],
      "text/plain": [
       "   Unnamed: 0                    work_province work_dedication  \\\n",
       "0           0  Ciudad Autónoma de Buenos Aires       Part-Time   \n",
       "1           1  Ciudad Autónoma de Buenos Aires       Full-Time   \n",
       "\n",
       "          work_contract_type  salary_monthly_BRUTO  salary_monthly_NETO  \\\n",
       "0  Staff (planta permanente)             6500000.0            5800000.0   \n",
       "1                 Contractor            12700000.0           10200000.0   \n",
       "\n",
       "                        salary_in_usd salary_last_dollar_value  \\\n",
       "0  Cobro parte del salario en dólares                      NaN   \n",
       "1    Cobro todo el salario en dólares                      NaN   \n",
       "\n",
       "        salary_has_bonus        salary_bonus_tied_to  ...  \\\n",
       "0  De uno a tres sueldos  Performance de la compañía  ...   \n",
       "1              Un sueldo  Performance de la compañía  ...   \n",
       "\n",
       "  salir_o_seguir_contestando_sobre_las_guardias  work_on_call_duty  \\\n",
       "0                                           NaN                NaN   \n",
       "1                             Terminar encuesta                 No   \n",
       "\n",
       "  salary_on_call_duty_charge  \\\n",
       "0                        NaN   \n",
       "1                        0.0   \n",
       "\n",
       "   aclara_el_numero_que_ingresaste_en_el_campo_anterior profile_age  \\\n",
       "0                                                NaN             45   \n",
       "1                                              Bruto             32   \n",
       "\n",
       "   profile_gender habias_respondido_nuestra_encuesta_en_ediciones_anteriores  \\\n",
       "0      Hombre Cis                                                 Sí           \n",
       "1       Mujer Cis                                                 Sí           \n",
       "\n",
       "  sueldo_dolarizado seniority        _sal  \n",
       "0              True    Senior   6500000.0  \n",
       "1              True    Senior  12700000.0  \n",
       "\n",
       "[2 rows x 51 columns]"
      ]
     },
     "execution_count": 15,
     "metadata": {},
     "output_type": "execute_result"
    }
   ],
   "source": [
    "# hago el dataframe con las columnas renombradas\n",
    "df_renamed = replace_columns(df_fixed, new_columns)\n",
    "df_renamed[:2]"
   ]
  },
  {
   "cell_type": "markdown",
   "metadata": {
    "id": "uSDnDiHArKx6"
   },
   "source": [
    "### Leer archivo desde URL\n",
    "\n",
    "Como realizar estas operaciones es un poco tedioso y requiere intervención manual, hemos subido el dataset a un servidor local de FaMAF para poder accederlos directamente a través de consultas HTTP (por ejemplo, desde un navegador).\n",
    "\n",
    "Otra forma de disponibilizar un conjunto de datos pequeño es creando un archivo en un repositorio de github o un gist."
   ]
  },
  {
   "cell_type": "markdown",
   "metadata": {
    "id": "y-Zx4i-o51jh"
   },
   "source": [
    "Primero, es necesario descargar el archivo ya procesado. El procedimiento es similar a leer el archivo.\n",
    "1. Se guarda el DataFrame en un archivo en el servidor remoto.\n",
    "2. Se descarga ese archivo."
   ]
  },
  {
   "cell_type": "code",
   "execution_count": 16,
   "metadata": {
    "id": "3ou7t-TN6Sk2"
   },
   "outputs": [],
   "source": [
    "df_renamed.to_csv(\"sysarmy_survey_2025_processed.csv\", index=False)"
   ]
  },
  {
   "cell_type": "code",
   "execution_count": 17,
   "metadata": {
    "colab": {
     "base_uri": "https://localhost:8080/",
     "height": 17
    },
    "id": "EYZxGzTo6QA9",
    "outputId": "15c16931-fe7c-4dca-feb7-176858039b70"
   },
   "outputs": [],
   "source": [
    "# no se hace falta en jupyter\n",
    "#from google.colab import files\n",
    "#files.download(\"sysarmy_survey_2025_processed.csv\")"
   ]
  },
  {
   "cell_type": "markdown",
   "metadata": {
    "id": "Ug7JEpuV6vkv"
   },
   "source": [
    "Subiremos este archivo con el dataset procesado a un servidor de la universidad.\n",
    "\n",
    "Pandas permite leer archivos `.csv` desde una URL, sin necesidad de descargarlos en el sistema de archivos local. La siguiente celda funcionará tanto en Colaboratory como en Jupyter, y será el método por defecto de acceder a los datos en las notebooks siguientes."
   ]
  },
  {
   "cell_type": "code",
   "execution_count": 18,
   "metadata": {
    "id": "UR_7-Sm_r3Oa"
   },
   "outputs": [],
   "source": [
    "url = 'https://raw.githubusercontent.com/DiploDatos/AnalisisyVisualizacion/master/sysarmy_survey_2025_processed.csv'\n",
    "df3 = pd.read_csv(url)"
   ]
  },
  {
   "cell_type": "code",
   "execution_count": 19,
   "metadata": {
    "colab": {
     "base_uri": "https://localhost:8080/",
     "height": 314
    },
    "id": "gckNHXXLktJ4",
    "outputId": "e781a09d-1cbc-4514-9959-30f2b8dad04e"
   },
   "outputs": [
    {
     "data": {
      "text/html": [
       "<div>\n",
       "<style scoped>\n",
       "    .dataframe tbody tr th:only-of-type {\n",
       "        vertical-align: middle;\n",
       "    }\n",
       "\n",
       "    .dataframe tbody tr th {\n",
       "        vertical-align: top;\n",
       "    }\n",
       "\n",
       "    .dataframe thead th {\n",
       "        text-align: right;\n",
       "    }\n",
       "</style>\n",
       "<table border=\"1\" class=\"dataframe\">\n",
       "  <thead>\n",
       "    <tr style=\"text-align: right;\">\n",
       "      <th></th>\n",
       "      <th>Unnamed: 0</th>\n",
       "      <th>work_province</th>\n",
       "      <th>work_dedication</th>\n",
       "      <th>work_contract_type</th>\n",
       "      <th>salary_monthly_BRUTO</th>\n",
       "      <th>salary_monthly_NETO</th>\n",
       "      <th>salary_in_usd</th>\n",
       "      <th>salary_last_dollar_value</th>\n",
       "      <th>salary_has_bonus</th>\n",
       "      <th>salary_bonus_tied_to</th>\n",
       "      <th>...</th>\n",
       "      <th>salir_o_seguir_contestando_sobre_las_guardias</th>\n",
       "      <th>work_on_call_duty</th>\n",
       "      <th>salary_on_call_duty_charge</th>\n",
       "      <th>aclara_el_numero_que_ingresaste_en_el_campo_anterior</th>\n",
       "      <th>profile_age</th>\n",
       "      <th>profile_gender</th>\n",
       "      <th>habias_respondido_nuestra_encuesta_en_ediciones_anteriores</th>\n",
       "      <th>sueldo_dolarizado</th>\n",
       "      <th>seniority</th>\n",
       "      <th>_sal</th>\n",
       "    </tr>\n",
       "  </thead>\n",
       "  <tbody>\n",
       "    <tr>\n",
       "      <th>0</th>\n",
       "      <td>0</td>\n",
       "      <td>Ciudad Autónoma de Buenos Aires</td>\n",
       "      <td>Part-Time</td>\n",
       "      <td>Staff (planta permanente)</td>\n",
       "      <td>6500000.0</td>\n",
       "      <td>5800000.0</td>\n",
       "      <td>Cobro parte del salario en dólares</td>\n",
       "      <td>NaN</td>\n",
       "      <td>De uno a tres sueldos</td>\n",
       "      <td>Performance de la compañía</td>\n",
       "      <td>...</td>\n",
       "      <td>NaN</td>\n",
       "      <td>NaN</td>\n",
       "      <td>NaN</td>\n",
       "      <td>NaN</td>\n",
       "      <td>45</td>\n",
       "      <td>Hombre Cis</td>\n",
       "      <td>Sí</td>\n",
       "      <td>True</td>\n",
       "      <td>Senior</td>\n",
       "      <td>6500000.0</td>\n",
       "    </tr>\n",
       "    <tr>\n",
       "      <th>1</th>\n",
       "      <td>1</td>\n",
       "      <td>Ciudad Autónoma de Buenos Aires</td>\n",
       "      <td>Full-Time</td>\n",
       "      <td>Contractor</td>\n",
       "      <td>12700000.0</td>\n",
       "      <td>10200000.0</td>\n",
       "      <td>Cobro todo el salario en dólares</td>\n",
       "      <td>NaN</td>\n",
       "      <td>Un sueldo</td>\n",
       "      <td>Performance de la compañía</td>\n",
       "      <td>...</td>\n",
       "      <td>Terminar encuesta</td>\n",
       "      <td>No</td>\n",
       "      <td>0.0</td>\n",
       "      <td>Bruto</td>\n",
       "      <td>32</td>\n",
       "      <td>Mujer Cis</td>\n",
       "      <td>Sí</td>\n",
       "      <td>True</td>\n",
       "      <td>Senior</td>\n",
       "      <td>12700000.0</td>\n",
       "    </tr>\n",
       "    <tr>\n",
       "      <th>2</th>\n",
       "      <td>2</td>\n",
       "      <td>Córdoba</td>\n",
       "      <td>Full-Time</td>\n",
       "      <td>Staff (planta permanente)</td>\n",
       "      <td>3952805.0</td>\n",
       "      <td>3137662.0</td>\n",
       "      <td>Cobro parte del salario en dólares</td>\n",
       "      <td>985</td>\n",
       "      <td>No</td>\n",
       "      <td>No recibo bono</td>\n",
       "      <td>...</td>\n",
       "      <td>NaN</td>\n",
       "      <td>NaN</td>\n",
       "      <td>NaN</td>\n",
       "      <td>NaN</td>\n",
       "      <td>29</td>\n",
       "      <td>Hombre Cis</td>\n",
       "      <td>Sí</td>\n",
       "      <td>True</td>\n",
       "      <td>Semi-Senior</td>\n",
       "      <td>3952805.0</td>\n",
       "    </tr>\n",
       "  </tbody>\n",
       "</table>\n",
       "<p>3 rows × 51 columns</p>\n",
       "</div>"
      ],
      "text/plain": [
       "   Unnamed: 0                    work_province work_dedication  \\\n",
       "0           0  Ciudad Autónoma de Buenos Aires       Part-Time   \n",
       "1           1  Ciudad Autónoma de Buenos Aires       Full-Time   \n",
       "2           2                          Córdoba       Full-Time   \n",
       "\n",
       "          work_contract_type  salary_monthly_BRUTO  salary_monthly_NETO  \\\n",
       "0  Staff (planta permanente)             6500000.0            5800000.0   \n",
       "1                 Contractor            12700000.0           10200000.0   \n",
       "2  Staff (planta permanente)             3952805.0            3137662.0   \n",
       "\n",
       "                        salary_in_usd salary_last_dollar_value  \\\n",
       "0  Cobro parte del salario en dólares                      NaN   \n",
       "1    Cobro todo el salario en dólares                      NaN   \n",
       "2  Cobro parte del salario en dólares                      985   \n",
       "\n",
       "        salary_has_bonus        salary_bonus_tied_to  ...  \\\n",
       "0  De uno a tres sueldos  Performance de la compañía  ...   \n",
       "1              Un sueldo  Performance de la compañía  ...   \n",
       "2                     No              No recibo bono  ...   \n",
       "\n",
       "  salir_o_seguir_contestando_sobre_las_guardias  work_on_call_duty  \\\n",
       "0                                           NaN                NaN   \n",
       "1                             Terminar encuesta                 No   \n",
       "2                                           NaN                NaN   \n",
       "\n",
       "  salary_on_call_duty_charge  \\\n",
       "0                        NaN   \n",
       "1                        0.0   \n",
       "2                        NaN   \n",
       "\n",
       "   aclara_el_numero_que_ingresaste_en_el_campo_anterior profile_age  \\\n",
       "0                                                NaN             45   \n",
       "1                                              Bruto             32   \n",
       "2                                                NaN             29   \n",
       "\n",
       "   profile_gender habias_respondido_nuestra_encuesta_en_ediciones_anteriores  \\\n",
       "0      Hombre Cis                                                 Sí           \n",
       "1       Mujer Cis                                                 Sí           \n",
       "2      Hombre Cis                                                 Sí           \n",
       "\n",
       "  sueldo_dolarizado    seniority        _sal  \n",
       "0              True       Senior   6500000.0  \n",
       "1              True       Senior  12700000.0  \n",
       "2              True  Semi-Senior   3952805.0  \n",
       "\n",
       "[3 rows x 51 columns]"
      ]
     },
     "execution_count": 19,
     "metadata": {},
     "output_type": "execute_result"
    }
   ],
   "source": [
    "df3[:3]"
   ]
  },
  {
   "cell_type": "code",
   "execution_count": null,
   "metadata": {
    "id": "gWNM-P_y7PbR"
   },
   "outputs": [],
   "source": []
  }
 ],
 "metadata": {
  "colab": {
   "provenance": []
  },
  "kernelspec": {
   "display_name": "Python [conda env:env-diplodatos-ayvd] *",
   "language": "python",
   "name": "conda-env-env-diplodatos-ayvd-py"
  },
  "language_info": {
   "codemirror_mode": {
    "name": "ipython",
    "version": 3
   },
   "file_extension": ".py",
   "mimetype": "text/x-python",
   "name": "python",
   "nbconvert_exporter": "python",
   "pygments_lexer": "ipython3",
   "version": "3.10.16"
  }
 },
 "nbformat": 4,
 "nbformat_minor": 4
}

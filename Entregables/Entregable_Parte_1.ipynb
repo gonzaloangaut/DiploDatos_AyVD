{
 "cells": [
  {
   "cell_type": "markdown",
   "metadata": {
    "id": "LYvAOR2VzHmW"
   },
   "source": [
    "\n",
    "# **Diplomatura en Ciencia de Datos, Aprendizaje Automático y sus Aplicaciones**\n",
    "\n",
    "**Edición 2025**\n",
    "\n",
    "---\n",
    "## Trabajo práctico entregable - Parte 1"
   ]
  },
  {
   "cell_type": "code",
   "execution_count": 1,
   "metadata": {
    "id": "Xwdfo7z20TUK"
   },
   "outputs": [],
   "source": [
    "import io\n",
    "import matplotlib\n",
    "import matplotlib.pyplot as plt\n",
    "import numpy\n",
    "import pandas as pd\n",
    "import seaborn\n",
    "\n",
    "seaborn.set_context('talk')"
   ]
  },
  {
   "cell_type": "markdown",
   "metadata": {
    "id": "XY2Hl-Ma07Nn"
   },
   "source": [
    "## Lectura del dataset\n",
    "\n",
    "En la notebook 00 se explican los detalles de la siguiente sección."
   ]
  },
  {
   "cell_type": "code",
   "execution_count": 2,
   "metadata": {
    "id": "TeXT3B9v_kn0"
   },
   "outputs": [],
   "source": [
    "url = 'https://raw.githubusercontent.com/DiploDatos/AnalisisyVisualizacion/master/sysarmy_survey_2025_processed.csv'\n",
    "df = pd.read_csv(url)"
   ]
  },
  {
   "cell_type": "code",
   "execution_count": 3,
   "metadata": {
    "colab": {
     "base_uri": "https://localhost:8080/",
     "height": 811
    },
    "id": "gckNHXXLktJ4",
    "outputId": "911f5b3f-ea2e-4d96-b09d-9b710cf6a963"
   },
   "outputs": [
    {
     "data": {
      "text/html": [
       "<div>\n",
       "<style scoped>\n",
       "    .dataframe tbody tr th:only-of-type {\n",
       "        vertical-align: middle;\n",
       "    }\n",
       "\n",
       "    .dataframe tbody tr th {\n",
       "        vertical-align: top;\n",
       "    }\n",
       "\n",
       "    .dataframe thead th {\n",
       "        text-align: right;\n",
       "    }\n",
       "</style>\n",
       "<table border=\"1\" class=\"dataframe\">\n",
       "  <thead>\n",
       "    <tr style=\"text-align: right;\">\n",
       "      <th></th>\n",
       "      <th>Unnamed: 0</th>\n",
       "      <th>work_province</th>\n",
       "      <th>work_dedication</th>\n",
       "      <th>work_contract_type</th>\n",
       "      <th>salary_monthly_BRUTO</th>\n",
       "      <th>salary_monthly_NETO</th>\n",
       "      <th>salary_in_usd</th>\n",
       "      <th>salary_last_dollar_value</th>\n",
       "      <th>salary_has_bonus</th>\n",
       "      <th>salary_bonus_tied_to</th>\n",
       "      <th>...</th>\n",
       "      <th>salir_o_seguir_contestando_sobre_las_guardias</th>\n",
       "      <th>work_on_call_duty</th>\n",
       "      <th>salary_on_call_duty_charge</th>\n",
       "      <th>aclara_el_numero_que_ingresaste_en_el_campo_anterior</th>\n",
       "      <th>profile_age</th>\n",
       "      <th>profile_gender</th>\n",
       "      <th>habias_respondido_nuestra_encuesta_en_ediciones_anteriores</th>\n",
       "      <th>sueldo_dolarizado</th>\n",
       "      <th>seniority</th>\n",
       "      <th>_sal</th>\n",
       "    </tr>\n",
       "  </thead>\n",
       "  <tbody>\n",
       "    <tr>\n",
       "      <th>0</th>\n",
       "      <td>0</td>\n",
       "      <td>Ciudad Autónoma de Buenos Aires</td>\n",
       "      <td>Part-Time</td>\n",
       "      <td>Staff (planta permanente)</td>\n",
       "      <td>6500000.00</td>\n",
       "      <td>5800000.00</td>\n",
       "      <td>Cobro parte del salario en dólares</td>\n",
       "      <td>NaN</td>\n",
       "      <td>De uno a tres sueldos</td>\n",
       "      <td>Performance de la compañía</td>\n",
       "      <td>...</td>\n",
       "      <td>NaN</td>\n",
       "      <td>NaN</td>\n",
       "      <td>NaN</td>\n",
       "      <td>NaN</td>\n",
       "      <td>45</td>\n",
       "      <td>Hombre Cis</td>\n",
       "      <td>Sí</td>\n",
       "      <td>True</td>\n",
       "      <td>Senior</td>\n",
       "      <td>6500000.00</td>\n",
       "    </tr>\n",
       "    <tr>\n",
       "      <th>1</th>\n",
       "      <td>1</td>\n",
       "      <td>Ciudad Autónoma de Buenos Aires</td>\n",
       "      <td>Full-Time</td>\n",
       "      <td>Contractor</td>\n",
       "      <td>12700000.00</td>\n",
       "      <td>10200000.00</td>\n",
       "      <td>Cobro todo el salario en dólares</td>\n",
       "      <td>NaN</td>\n",
       "      <td>Un sueldo</td>\n",
       "      <td>Performance de la compañía</td>\n",
       "      <td>...</td>\n",
       "      <td>Terminar encuesta</td>\n",
       "      <td>No</td>\n",
       "      <td>0.0</td>\n",
       "      <td>Bruto</td>\n",
       "      <td>32</td>\n",
       "      <td>Mujer Cis</td>\n",
       "      <td>Sí</td>\n",
       "      <td>True</td>\n",
       "      <td>Senior</td>\n",
       "      <td>12700000.00</td>\n",
       "    </tr>\n",
       "    <tr>\n",
       "      <th>2</th>\n",
       "      <td>2</td>\n",
       "      <td>Córdoba</td>\n",
       "      <td>Full-Time</td>\n",
       "      <td>Staff (planta permanente)</td>\n",
       "      <td>3952805.00</td>\n",
       "      <td>3137662.00</td>\n",
       "      <td>Cobro parte del salario en dólares</td>\n",
       "      <td>985</td>\n",
       "      <td>No</td>\n",
       "      <td>No recibo bono</td>\n",
       "      <td>...</td>\n",
       "      <td>NaN</td>\n",
       "      <td>NaN</td>\n",
       "      <td>NaN</td>\n",
       "      <td>NaN</td>\n",
       "      <td>29</td>\n",
       "      <td>Hombre Cis</td>\n",
       "      <td>Sí</td>\n",
       "      <td>True</td>\n",
       "      <td>Semi-Senior</td>\n",
       "      <td>3952805.00</td>\n",
       "    </tr>\n",
       "    <tr>\n",
       "      <th>3</th>\n",
       "      <td>3</td>\n",
       "      <td>Ciudad Autónoma de Buenos Aires</td>\n",
       "      <td>Part-Time</td>\n",
       "      <td>Staff (planta permanente)</td>\n",
       "      <td>1606000.00</td>\n",
       "      <td>1360000.00</td>\n",
       "      <td>Cobro parte del salario en dólares</td>\n",
       "      <td>1004</td>\n",
       "      <td>No</td>\n",
       "      <td>No recibo bono</td>\n",
       "      <td>...</td>\n",
       "      <td>NaN</td>\n",
       "      <td>NaN</td>\n",
       "      <td>NaN</td>\n",
       "      <td>NaN</td>\n",
       "      <td>25</td>\n",
       "      <td>Hombre Cis</td>\n",
       "      <td>Sí</td>\n",
       "      <td>True</td>\n",
       "      <td>Semi-Senior</td>\n",
       "      <td>1606000.00</td>\n",
       "    </tr>\n",
       "    <tr>\n",
       "      <th>4</th>\n",
       "      <td>4</td>\n",
       "      <td>Córdoba</td>\n",
       "      <td>Full-Time</td>\n",
       "      <td>Tercerizado (trabajo a través de consultora o ...</td>\n",
       "      <td>1325301.00</td>\n",
       "      <td>NaN</td>\n",
       "      <td>Cobro parte del salario en dólares</td>\n",
       "      <td>NaN</td>\n",
       "      <td>No</td>\n",
       "      <td>No recibo bono</td>\n",
       "      <td>...</td>\n",
       "      <td>Terminar encuesta</td>\n",
       "      <td>NaN</td>\n",
       "      <td>NaN</td>\n",
       "      <td>NaN</td>\n",
       "      <td>22</td>\n",
       "      <td>Hombre Cis</td>\n",
       "      <td>Sí</td>\n",
       "      <td>True</td>\n",
       "      <td>Senior</td>\n",
       "      <td>1325301.00</td>\n",
       "    </tr>\n",
       "    <tr>\n",
       "      <th>5</th>\n",
       "      <td>5</td>\n",
       "      <td>Ciudad Autónoma de Buenos Aires</td>\n",
       "      <td>Full-Time</td>\n",
       "      <td>Staff (planta permanente)</td>\n",
       "      <td>2670205.00</td>\n",
       "      <td>2167989.00</td>\n",
       "      <td>Cobro parte del salario en dólares</td>\n",
       "      <td>986</td>\n",
       "      <td>No</td>\n",
       "      <td>No recibo bono</td>\n",
       "      <td>...</td>\n",
       "      <td>Terminar encuesta</td>\n",
       "      <td>No</td>\n",
       "      <td>0.0</td>\n",
       "      <td>Porcentaje de mi sueldo bruto</td>\n",
       "      <td>48</td>\n",
       "      <td>Hombre Cis</td>\n",
       "      <td>Sí</td>\n",
       "      <td>True</td>\n",
       "      <td>Senior</td>\n",
       "      <td>2670205.00</td>\n",
       "    </tr>\n",
       "    <tr>\n",
       "      <th>6</th>\n",
       "      <td>6</td>\n",
       "      <td>Ciudad Autónoma de Buenos Aires</td>\n",
       "      <td>Full-Time</td>\n",
       "      <td>Staff (planta permanente)</td>\n",
       "      <td>4000000.00</td>\n",
       "      <td>4000000.00</td>\n",
       "      <td>Cobro todo el salario en dólares</td>\n",
       "      <td>NaN</td>\n",
       "      <td>No</td>\n",
       "      <td>No recibo bono</td>\n",
       "      <td>...</td>\n",
       "      <td>Terminar encuesta</td>\n",
       "      <td>No</td>\n",
       "      <td>0.0</td>\n",
       "      <td>Bruto</td>\n",
       "      <td>50</td>\n",
       "      <td>Hombre Cis</td>\n",
       "      <td>Sí</td>\n",
       "      <td>True</td>\n",
       "      <td>Senior</td>\n",
       "      <td>4000000.00</td>\n",
       "    </tr>\n",
       "    <tr>\n",
       "      <th>7</th>\n",
       "      <td>7</td>\n",
       "      <td>Córdoba</td>\n",
       "      <td>Full-Time</td>\n",
       "      <td>Staff (planta permanente)</td>\n",
       "      <td>4200000.00</td>\n",
       "      <td>3600000.00</td>\n",
       "      <td>Cobro parte del salario en dólares</td>\n",
       "      <td>1070</td>\n",
       "      <td>No</td>\n",
       "      <td>No recibo bono</td>\n",
       "      <td>...</td>\n",
       "      <td>Responder sobre guardias</td>\n",
       "      <td>Sí, pasiva</td>\n",
       "      <td>0.0</td>\n",
       "      <td>Porcentaje de mi sueldo bruto</td>\n",
       "      <td>43</td>\n",
       "      <td>Hombre Cis</td>\n",
       "      <td>Sí</td>\n",
       "      <td>True</td>\n",
       "      <td>Senior</td>\n",
       "      <td>4200000.00</td>\n",
       "    </tr>\n",
       "    <tr>\n",
       "      <th>8</th>\n",
       "      <td>8</td>\n",
       "      <td>Buenos Aires</td>\n",
       "      <td>Full-Time</td>\n",
       "      <td>Freelance</td>\n",
       "      <td>3000000.00</td>\n",
       "      <td>2000000.00</td>\n",
       "      <td>Mi sueldo está dolarizado (pero cobro en moned...</td>\n",
       "      <td>1150</td>\n",
       "      <td>No</td>\n",
       "      <td>No recibo bono</td>\n",
       "      <td>...</td>\n",
       "      <td>NaN</td>\n",
       "      <td>NaN</td>\n",
       "      <td>NaN</td>\n",
       "      <td>NaN</td>\n",
       "      <td>41</td>\n",
       "      <td>Hombre Cis</td>\n",
       "      <td>No</td>\n",
       "      <td>True</td>\n",
       "      <td>Senior</td>\n",
       "      <td>3000000.00</td>\n",
       "    </tr>\n",
       "    <tr>\n",
       "      <th>9</th>\n",
       "      <td>9</td>\n",
       "      <td>Buenos Aires</td>\n",
       "      <td>Full-Time</td>\n",
       "      <td>Staff (planta permanente)</td>\n",
       "      <td>3953142.06</td>\n",
       "      <td>3258576.49</td>\n",
       "      <td>Mi sueldo está dolarizado (pero cobro en moned...</td>\n",
       "      <td>NaN</td>\n",
       "      <td>Un sueldo</td>\n",
       "      <td>Performance de la compañía</td>\n",
       "      <td>...</td>\n",
       "      <td>NaN</td>\n",
       "      <td>NaN</td>\n",
       "      <td>NaN</td>\n",
       "      <td>NaN</td>\n",
       "      <td>47</td>\n",
       "      <td>Hombre Cis</td>\n",
       "      <td>Sí</td>\n",
       "      <td>True</td>\n",
       "      <td>Senior</td>\n",
       "      <td>3953142.06</td>\n",
       "    </tr>\n",
       "  </tbody>\n",
       "</table>\n",
       "<p>10 rows × 51 columns</p>\n",
       "</div>"
      ],
      "text/plain": [
       "   Unnamed: 0                    work_province work_dedication  \\\n",
       "0           0  Ciudad Autónoma de Buenos Aires       Part-Time   \n",
       "1           1  Ciudad Autónoma de Buenos Aires       Full-Time   \n",
       "2           2                          Córdoba       Full-Time   \n",
       "3           3  Ciudad Autónoma de Buenos Aires       Part-Time   \n",
       "4           4                          Córdoba       Full-Time   \n",
       "5           5  Ciudad Autónoma de Buenos Aires       Full-Time   \n",
       "6           6  Ciudad Autónoma de Buenos Aires       Full-Time   \n",
       "7           7                          Córdoba       Full-Time   \n",
       "8           8                     Buenos Aires       Full-Time   \n",
       "9           9                     Buenos Aires       Full-Time   \n",
       "\n",
       "                                  work_contract_type  salary_monthly_BRUTO  \\\n",
       "0                          Staff (planta permanente)            6500000.00   \n",
       "1                                         Contractor           12700000.00   \n",
       "2                          Staff (planta permanente)            3952805.00   \n",
       "3                          Staff (planta permanente)            1606000.00   \n",
       "4  Tercerizado (trabajo a través de consultora o ...            1325301.00   \n",
       "5                          Staff (planta permanente)            2670205.00   \n",
       "6                          Staff (planta permanente)            4000000.00   \n",
       "7                          Staff (planta permanente)            4200000.00   \n",
       "8                                          Freelance            3000000.00   \n",
       "9                          Staff (planta permanente)            3953142.06   \n",
       "\n",
       "   salary_monthly_NETO                                      salary_in_usd  \\\n",
       "0           5800000.00                 Cobro parte del salario en dólares   \n",
       "1          10200000.00                   Cobro todo el salario en dólares   \n",
       "2           3137662.00                 Cobro parte del salario en dólares   \n",
       "3           1360000.00                 Cobro parte del salario en dólares   \n",
       "4                  NaN                 Cobro parte del salario en dólares   \n",
       "5           2167989.00                 Cobro parte del salario en dólares   \n",
       "6           4000000.00                   Cobro todo el salario en dólares   \n",
       "7           3600000.00                 Cobro parte del salario en dólares   \n",
       "8           2000000.00  Mi sueldo está dolarizado (pero cobro en moned...   \n",
       "9           3258576.49  Mi sueldo está dolarizado (pero cobro en moned...   \n",
       "\n",
       "  salary_last_dollar_value       salary_has_bonus        salary_bonus_tied_to  \\\n",
       "0                      NaN  De uno a tres sueldos  Performance de la compañía   \n",
       "1                      NaN              Un sueldo  Performance de la compañía   \n",
       "2                      985                     No              No recibo bono   \n",
       "3                     1004                     No              No recibo bono   \n",
       "4                      NaN                     No              No recibo bono   \n",
       "5                      986                     No              No recibo bono   \n",
       "6                      NaN                     No              No recibo bono   \n",
       "7                     1070                     No              No recibo bono   \n",
       "8                     1150                     No              No recibo bono   \n",
       "9                      NaN              Un sueldo  Performance de la compañía   \n",
       "\n",
       "   ... salir_o_seguir_contestando_sobre_las_guardias  work_on_call_duty  \\\n",
       "0  ...                                           NaN                NaN   \n",
       "1  ...                             Terminar encuesta                 No   \n",
       "2  ...                                           NaN                NaN   \n",
       "3  ...                                           NaN                NaN   \n",
       "4  ...                             Terminar encuesta                NaN   \n",
       "5  ...                             Terminar encuesta                 No   \n",
       "6  ...                             Terminar encuesta                 No   \n",
       "7  ...                      Responder sobre guardias         Sí, pasiva   \n",
       "8  ...                                           NaN                NaN   \n",
       "9  ...                                           NaN                NaN   \n",
       "\n",
       "  salary_on_call_duty_charge  \\\n",
       "0                        NaN   \n",
       "1                        0.0   \n",
       "2                        NaN   \n",
       "3                        NaN   \n",
       "4                        NaN   \n",
       "5                        0.0   \n",
       "6                        0.0   \n",
       "7                        0.0   \n",
       "8                        NaN   \n",
       "9                        NaN   \n",
       "\n",
       "   aclara_el_numero_que_ingresaste_en_el_campo_anterior profile_age  \\\n",
       "0                                                NaN             45   \n",
       "1                                              Bruto             32   \n",
       "2                                                NaN             29   \n",
       "3                                                NaN             25   \n",
       "4                                                NaN             22   \n",
       "5                      Porcentaje de mi sueldo bruto             48   \n",
       "6                                              Bruto             50   \n",
       "7                      Porcentaje de mi sueldo bruto             43   \n",
       "8                                                NaN             41   \n",
       "9                                                NaN             47   \n",
       "\n",
       "   profile_gender habias_respondido_nuestra_encuesta_en_ediciones_anteriores  \\\n",
       "0      Hombre Cis                                                 Sí           \n",
       "1       Mujer Cis                                                 Sí           \n",
       "2      Hombre Cis                                                 Sí           \n",
       "3      Hombre Cis                                                 Sí           \n",
       "4      Hombre Cis                                                 Sí           \n",
       "5      Hombre Cis                                                 Sí           \n",
       "6      Hombre Cis                                                 Sí           \n",
       "7      Hombre Cis                                                 Sí           \n",
       "8      Hombre Cis                                                 No           \n",
       "9      Hombre Cis                                                 Sí           \n",
       "\n",
       "  sueldo_dolarizado    seniority         _sal  \n",
       "0              True       Senior   6500000.00  \n",
       "1              True       Senior  12700000.00  \n",
       "2              True  Semi-Senior   3952805.00  \n",
       "3              True  Semi-Senior   1606000.00  \n",
       "4              True       Senior   1325301.00  \n",
       "5              True       Senior   2670205.00  \n",
       "6              True       Senior   4000000.00  \n",
       "7              True       Senior   4200000.00  \n",
       "8              True       Senior   3000000.00  \n",
       "9              True       Senior   3953142.06  \n",
       "\n",
       "[10 rows x 51 columns]"
      ]
     },
     "execution_count": 3,
     "metadata": {},
     "output_type": "execute_result"
    }
   ],
   "source": [
    "df[:10]"
   ]
  },
  {
   "cell_type": "markdown",
   "metadata": {
    "id": "-ZSQYANFHHgV"
   },
   "source": [
    "# Ejercicio 1 - Análisis descriptivo\n",
    "\n",
    "Responder a la pregunta: **¿Cuáles son los lenguajes de programación asociados a los mejores salarios?**\n",
    "\n",
    "Para ello:\n",
    "1. Seleccionar las columnas relevantes para analizar.\n",
    "2. Seleccionar las filas relevantes para analizar. Esto incluye la eliminación de valores extremos y erróneos, pero también puede enfocar el análisis en una sub-población. Por ejemplo, se pueden limitar a personas con un salario mayor que 300000 pesos, o a las personas que trabajan sólo en \"Data Science\", pero deben justificar su elección y reformular la pregunta inicial de ser necesario.\n",
    "  * Obtener una lista de los lenguajes de programación más populares. Decidir cuántos y cuáles seleccionan para incluir en el análisis.\n",
    "  * Para cada una de las otras columnas del punto anterior, elegir los rangos o valores seleccionan para incluir en el análisis.\n",
    "3. Seleccionar métricas que ayuden a responder la pregunta, y los métodos para analizarlas. Elegir UNA de las siguientes opciones:\n",
    "  * Comparar las distribuciones de salario para cada lenguaje utilizando visualizaciones. Como la visualización es el producto final, debe ser clara y mostrar información relevante.\n",
    "  * Comparar medidas de estadística descriptiva sobre la distribución de salario para cada lenguaje. Sean creativos, la estadística descriptiva nos permite decir cosas como: \"el 10% de los mejores sueldos los ganan, en su mayoría, programadores que saben kotlin!\" (donde *mayoría* es un término medio engañoso que sólo significa más del 50%). Para comparar múltiples lenguajes, les recomendamos usar también visualizaciones.\n",
    "  * Comparar probabilidades. Por ejemplo: \"Si sabés Python o Java, tenés un 30% más de chances de ganar arriba de 1000K\".\n",
    "\n",
    "Si lo consideran necesario, realicen varias iteraciones. Es decir, si encuentran que las distribuciones de los lenguajes de programación que seleccionaron inicialmente no son muy diferentes, pueden re-hacer el análisis usando sólo los lenguajes de programación que son diferentes."
   ]
  },
  {
   "cell_type": "code",
   "execution_count": 4,
   "metadata": {},
   "outputs": [
    {
     "data": {
      "text/plain": [
       "['Unnamed: 0',\n",
       " 'work_province',\n",
       " 'work_dedication',\n",
       " 'work_contract_type',\n",
       " 'salary_monthly_BRUTO',\n",
       " 'salary_monthly_NETO',\n",
       " 'salary_in_usd',\n",
       " 'salary_last_dollar_value',\n",
       " 'salary_has_bonus',\n",
       " 'salary_bonus_tied_to',\n",
       " 'salary_inflation_adjustment',\n",
       " 'salary_percentage_inflation_adjustment',\n",
       " 'salary_month_last_inflation_adjustment',\n",
       " 'salary_comparison_last_semester',\n",
       " 'salary_benefit',\n",
       " 'salary_satisfaction',\n",
       " 'estas_buscando_trabajo',\n",
       " 'pluriempleo',\n",
       " 'company_main_activity',\n",
       " 'profile_years_experience',\n",
       " 'work_years_in_company',\n",
       " 'work_years_in_current_position',\n",
       " 'work_people_in_charge_of',\n",
       " 'tools_platform',\n",
       " 'tools_programming_languages',\n",
       " 'tools_frameworks',\n",
       " 'tools_data_bases',\n",
       " 'tools_qa_testing',\n",
       " 'company_employee_number',\n",
       " 'work_work_modality',\n",
       " 'company_days_in_the_office',\n",
       " 'en_los_ultimos_6_mesesse_aplico_alguna_politica_de_ajustes_salariales',\n",
       " 'opcionalen_que_empresaorganizacion_estas_trabajando',\n",
       " 'company_recommended',\n",
       " 'tools_copilotchatgpt',\n",
       " 'algo_que_quieras_decir_sobre_tu_trabajo',\n",
       " 'salir_o_seguir_contestando',\n",
       " 'profile_studies_level',\n",
       " 'profile_studies_level_state',\n",
       " 'profile_career',\n",
       " 'profile_university',\n",
       " 'salir_o_seguir_contestando_sobre_las_guardias',\n",
       " 'work_on_call_duty',\n",
       " 'salary_on_call_duty_charge',\n",
       " 'aclara_el_numero_que_ingresaste_en_el_campo_anterior',\n",
       " 'profile_age',\n",
       " 'profile_gender',\n",
       " 'habias_respondido_nuestra_encuesta_en_ediciones_anteriores',\n",
       " 'sueldo_dolarizado',\n",
       " 'seniority',\n",
       " '_sal']"
      ]
     },
     "execution_count": 4,
     "metadata": {},
     "output_type": "execute_result"
    }
   ],
   "source": [
    "# Para ver las columnas relevantes, observemos primero todas las columnas.\n",
    "list(df.columns)"
   ]
  },
  {
   "cell_type": "code",
   "execution_count": 5,
   "metadata": {
    "id": "6dqTEr7cZgvl"
   },
   "outputs": [],
   "source": [
    "# Las columnas relevantes son las siguientes:\n",
    "relevant_columns = ['tools_programming_languages', 'salary_monthly_NETO'] # Agregar más si se quiere"
   ]
  },
  {
   "cell_type": "code",
   "execution_count": 6,
   "metadata": {},
   "outputs": [
    {
     "data": {
      "text/html": [
       "<div>\n",
       "<style scoped>\n",
       "    .dataframe tbody tr th:only-of-type {\n",
       "        vertical-align: middle;\n",
       "    }\n",
       "\n",
       "    .dataframe tbody tr th {\n",
       "        vertical-align: top;\n",
       "    }\n",
       "\n",
       "    .dataframe thead th {\n",
       "        text-align: right;\n",
       "    }\n",
       "</style>\n",
       "<table border=\"1\" class=\"dataframe\">\n",
       "  <thead>\n",
       "    <tr style=\"text-align: right;\">\n",
       "      <th></th>\n",
       "      <th>salary_monthly_NETO</th>\n",
       "    </tr>\n",
       "  </thead>\n",
       "  <tbody>\n",
       "    <tr>\n",
       "      <th>count</th>\n",
       "      <td>4.951000e+03</td>\n",
       "    </tr>\n",
       "    <tr>\n",
       "      <th>mean</th>\n",
       "      <td>1.072550e+10</td>\n",
       "    </tr>\n",
       "    <tr>\n",
       "      <th>std</th>\n",
       "      <td>7.545122e+11</td>\n",
       "    </tr>\n",
       "    <tr>\n",
       "      <th>min</th>\n",
       "      <td>4.000000e+00</td>\n",
       "    </tr>\n",
       "    <tr>\n",
       "      <th>25%</th>\n",
       "      <td>1.288264e+06</td>\n",
       "    </tr>\n",
       "    <tr>\n",
       "      <th>50%</th>\n",
       "      <td>1.916958e+06</td>\n",
       "    </tr>\n",
       "    <tr>\n",
       "      <th>75%</th>\n",
       "      <td>2.893500e+06</td>\n",
       "    </tr>\n",
       "    <tr>\n",
       "      <th>max</th>\n",
       "      <td>5.309001e+13</td>\n",
       "    </tr>\n",
       "  </tbody>\n",
       "</table>\n",
       "</div>"
      ],
      "text/plain": [
       "       salary_monthly_NETO\n",
       "count         4.951000e+03\n",
       "mean          1.072550e+10\n",
       "std           7.545122e+11\n",
       "min           4.000000e+00\n",
       "25%           1.288264e+06\n",
       "50%           1.916958e+06\n",
       "75%           2.893500e+06\n",
       "max           5.309001e+13"
      ]
     },
     "execution_count": 6,
     "metadata": {},
     "output_type": "execute_result"
    }
   ],
   "source": [
    "# Para ver qué filas son relevantes, hagamos un análisis sobre las columnas numéricas relevantes\n",
    "relevant_numeric_columns = ['salary_monthly_NETO'] # Agregar más si se quiere\n",
    "df[relevant_numeric_columns].describe().map(lambda x: round(x, 2))"
   ]
  },
  {
   "cell_type": "markdown",
   "metadata": {},
   "source": [
    "Notamos que el salario máximo es mucho mayor que la media, mientras que el salario mínimo es apenas 4, lo cual parece poco realista. Vamos a intentar eliminar los datos que carecen de sentido."
   ]
  },
  {
   "cell_type": "code",
   "execution_count": 7,
   "metadata": {},
   "outputs": [],
   "source": [
    "# Armamos un nuevo DataFrame que filtra los datos, recortando las filas que se encuentran por encima\n",
    "# del percentil 99 y por debajo del percentil 1 para todas las columnas numéricas relevantes\n",
    "df_filtered = df.copy()  # trabajamos sobre una copia\n",
    "\n",
    "for col in relevant_numeric_columns:\n",
    "    lower = df[col].quantile(0.01)\n",
    "    upper = df[col].quantile(0.99)\n",
    "    df_filtered = df_filtered[(df_filtered[col] >= lower) & (df_filtered[col] <= upper)]"
   ]
  },
  {
   "cell_type": "code",
   "execution_count": 8,
   "metadata": {},
   "outputs": [
    {
     "data": {
      "text/html": [
       "<div>\n",
       "<style scoped>\n",
       "    .dataframe tbody tr th:only-of-type {\n",
       "        vertical-align: middle;\n",
       "    }\n",
       "\n",
       "    .dataframe tbody tr th {\n",
       "        vertical-align: top;\n",
       "    }\n",
       "\n",
       "    .dataframe thead th {\n",
       "        text-align: right;\n",
       "    }\n",
       "</style>\n",
       "<table border=\"1\" class=\"dataframe\">\n",
       "  <thead>\n",
       "    <tr style=\"text-align: right;\">\n",
       "      <th></th>\n",
       "      <th>salary_monthly_NETO</th>\n",
       "    </tr>\n",
       "  </thead>\n",
       "  <tbody>\n",
       "    <tr>\n",
       "      <th>count</th>\n",
       "      <td>4852.00</td>\n",
       "    </tr>\n",
       "    <tr>\n",
       "      <th>mean</th>\n",
       "      <td>2248259.43</td>\n",
       "    </tr>\n",
       "    <tr>\n",
       "      <th>std</th>\n",
       "      <td>1355399.87</td>\n",
       "    </tr>\n",
       "    <tr>\n",
       "      <th>min</th>\n",
       "      <td>250000.00</td>\n",
       "    </tr>\n",
       "    <tr>\n",
       "      <th>25%</th>\n",
       "      <td>1300000.00</td>\n",
       "    </tr>\n",
       "    <tr>\n",
       "      <th>50%</th>\n",
       "      <td>1914251.50</td>\n",
       "    </tr>\n",
       "    <tr>\n",
       "      <th>75%</th>\n",
       "      <td>2808051.46</td>\n",
       "    </tr>\n",
       "    <tr>\n",
       "      <th>max</th>\n",
       "      <td>8500000.00</td>\n",
       "    </tr>\n",
       "  </tbody>\n",
       "</table>\n",
       "</div>"
      ],
      "text/plain": [
       "       salary_monthly_NETO\n",
       "count              4852.00\n",
       "mean            2248259.43\n",
       "std             1355399.87\n",
       "min              250000.00\n",
       "25%             1300000.00\n",
       "50%             1914251.50\n",
       "75%             2808051.46\n",
       "max             8500000.00"
      ]
     },
     "execution_count": 8,
     "metadata": {},
     "output_type": "execute_result"
    }
   ],
   "source": [
    "# Veamos ahora el resumen estadístico del nuevo dataframe\n",
    "df_filtered[relevant_numeric_columns].describe().map(lambda x: round(x, 2))"
   ]
  },
  {
   "cell_type": "markdown",
   "metadata": {},
   "source": [
    "Ahora el mínimo ya es de 250.000 (mucho más razonable) y el máximo de 8.500.000 (del mismo orden que la media de 2.248.259). Por lo tanto, el nuevo DataFrame parece eliminar los datos \"erróneos\""
   ]
  },
  {
   "cell_type": "markdown",
   "metadata": {},
   "source": [
    "Sin embargo, notemos que en la edad (que no es una columna relevante para este análisis en particular) aparece un valor máximo absurdo:"
   ]
  },
  {
   "cell_type": "code",
   "execution_count": 9,
   "metadata": {},
   "outputs": [
    {
     "data": {
      "text/plain": [
       "count    4852.000000\n",
       "mean       36.596455\n",
       "std        46.379290\n",
       "min        19.000000\n",
       "25%        29.000000\n",
       "50%        35.000000\n",
       "75%        41.000000\n",
       "max      3040.000000\n",
       "Name: profile_age, dtype: float64"
      ]
     },
     "execution_count": 9,
     "metadata": {},
     "output_type": "execute_result"
    }
   ],
   "source": [
    "df_filtered.profile_age.describe()"
   ]
  },
  {
   "cell_type": "code",
   "execution_count": 10,
   "metadata": {},
   "outputs": [
    {
     "data": {
      "text/plain": [
       "count    4847.000000\n",
       "mean       35.660202\n",
       "std         8.386571\n",
       "min        19.000000\n",
       "25%        29.000000\n",
       "50%        35.000000\n",
       "75%        41.000000\n",
       "max        99.000000\n",
       "Name: profile_age, dtype: float64"
      ]
     },
     "execution_count": 10,
     "metadata": {},
     "output_type": "execute_result"
    }
   ],
   "source": [
    "# Eliminemos todos los valores menores a 100 años\n",
    "df_filtered = df_filtered[df_filtered['profile_age']<100]\n",
    "# veamos como cambió\n",
    "df_filtered.profile_age.describe()"
   ]
  },
  {
   "cell_type": "code",
   "execution_count": 11,
   "metadata": {},
   "outputs": [],
   "source": [
    "# Eliminamos los NaN del salario tambien?\n",
    "# ¿Podemos restringir a un subconjunto? ¿A cual?\n",
    "# Agregar eso a columnas relevantes. \n",
    "# Ver si hay mas part o full time, cobro en dolares o no, que sean de alguna ciudad en particular, etc."
   ]
  },
  {
   "cell_type": "markdown",
   "metadata": {},
   "source": [
    "También podemos tener en cuenta solamente un tipo de dedicación, ya sea Full-Time o Part-Time. Para eso, calculemos cual de los dos tipos abunda."
   ]
  },
  {
   "cell_type": "code",
   "execution_count": 12,
   "metadata": {},
   "outputs": [
    {
     "data": {
      "text/plain": [
       "array(['Part-Time', 'Full-Time'], dtype=object)"
      ]
     },
     "execution_count": 12,
     "metadata": {},
     "output_type": "execute_result"
    }
   ],
   "source": [
    "df_filtered.work_dedication.unique()"
   ]
  },
  {
   "cell_type": "code",
   "execution_count": 13,
   "metadata": {},
   "outputs": [
    {
     "data": {
      "text/plain": [
       "count          4847\n",
       "unique            2\n",
       "top       Full-Time\n",
       "freq           4642\n",
       "Name: work_dedication, dtype: object"
      ]
     },
     "execution_count": 13,
     "metadata": {},
     "output_type": "execute_result"
    }
   ],
   "source": [
    "df_filtered.work_dedication.describe()"
   ]
  },
  {
   "cell_type": "code",
   "execution_count": 14,
   "metadata": {},
   "outputs": [],
   "source": [
    "df_filtered = df_filtered[df_filtered['work_dedication'] == 'Full-Time']"
   ]
  },
  {
   "cell_type": "markdown",
   "metadata": {
    "id": "OoGgzMvuEocM"
   },
   "source": [
    "### Conteo de frecuencias de los lenguajes de programación\n",
    "\n",
    "La columna que contiene información sobre los lenguajes de programación utilizados es `tools_programming_languages`. Sus valores son strings con los lenguajes seleccionados separados por comas.\n",
    "\n"
   ]
  },
  {
   "cell_type": "code",
   "execution_count": 15,
   "metadata": {
    "colab": {
     "base_uri": "https://localhost:8080/",
     "height": 178
    },
    "id": "J7AB2Ty8SvNl",
    "outputId": "ffff8482-b3e2-4a91-95a0-b973db74376d"
   },
   "outputs": [
    {
     "data": {
      "text/plain": [
       "2                          SQL\n",
       "5    Ninguno de los anteriores\n",
       "6            .NET, Python, SQL\n",
       "Name: tools_programming_languages, dtype: object"
      ]
     },
     "execution_count": 15,
     "metadata": {},
     "output_type": "execute_result"
    }
   ],
   "source": [
    "df_filtered.tools_programming_languages[:3]"
   ]
  },
  {
   "cell_type": "markdown",
   "metadata": {
    "id": "l8bYmvMhSroH"
   },
   "source": [
    "\n",
    "Las siguientes celdas de código separan estos lenguajes de programación y cuentan la frecuencia con la que aparecen."
   ]
  },
  {
   "cell_type": "code",
   "execution_count": 16,
   "metadata": {
    "colab": {
     "base_uri": "https://localhost:8080/",
     "height": 206
    },
    "id": "PAQ81x3iUP_N",
    "outputId": "7b8c41bf-9577-4678-c871-33bdd3b326fb"
   },
   "outputs": [
    {
     "data": {
      "text/html": [
       "<div>\n",
       "<style scoped>\n",
       "    .dataframe tbody tr th:only-of-type {\n",
       "        vertical-align: middle;\n",
       "    }\n",
       "\n",
       "    .dataframe tbody tr th {\n",
       "        vertical-align: top;\n",
       "    }\n",
       "\n",
       "    .dataframe thead th {\n",
       "        text-align: right;\n",
       "    }\n",
       "</style>\n",
       "<table border=\"1\" class=\"dataframe\">\n",
       "  <thead>\n",
       "    <tr style=\"text-align: right;\">\n",
       "      <th></th>\n",
       "      <th>programming_language</th>\n",
       "      <th>tools_programming_languages</th>\n",
       "      <th>salary_monthly_NETO</th>\n",
       "      <th>cured_programming_languages</th>\n",
       "    </tr>\n",
       "  </thead>\n",
       "  <tbody>\n",
       "    <tr>\n",
       "      <th>2</th>\n",
       "      <td>sql</td>\n",
       "      <td>SQL</td>\n",
       "      <td>3137662.0</td>\n",
       "      <td>[sql]</td>\n",
       "    </tr>\n",
       "    <tr>\n",
       "      <th>6</th>\n",
       "      <td>.net</td>\n",
       "      <td>.NET, Python, SQL</td>\n",
       "      <td>4000000.0</td>\n",
       "      <td>[.net, python, sql]</td>\n",
       "    </tr>\n",
       "    <tr>\n",
       "      <th>6</th>\n",
       "      <td>python</td>\n",
       "      <td>.NET, Python, SQL</td>\n",
       "      <td>4000000.0</td>\n",
       "      <td>[.net, python, sql]</td>\n",
       "    </tr>\n",
       "    <tr>\n",
       "      <th>6</th>\n",
       "      <td>sql</td>\n",
       "      <td>.NET, Python, SQL</td>\n",
       "      <td>4000000.0</td>\n",
       "      <td>[.net, python, sql]</td>\n",
       "    </tr>\n",
       "    <tr>\n",
       "      <th>7</th>\n",
       "      <td>c++</td>\n",
       "      <td>C++, Python</td>\n",
       "      <td>3600000.0</td>\n",
       "      <td>[c++, python]</td>\n",
       "    </tr>\n",
       "  </tbody>\n",
       "</table>\n",
       "</div>"
      ],
      "text/plain": [
       "  programming_language tools_programming_languages  salary_monthly_NETO  \\\n",
       "2                  sql                         SQL            3137662.0   \n",
       "6                 .net           .NET, Python, SQL            4000000.0   \n",
       "6               python           .NET, Python, SQL            4000000.0   \n",
       "6                  sql           .NET, Python, SQL            4000000.0   \n",
       "7                  c++                 C++, Python            3600000.0   \n",
       "\n",
       "  cured_programming_languages  \n",
       "2                       [sql]  \n",
       "6         [.net, python, sql]  \n",
       "6         [.net, python, sql]  \n",
       "6         [.net, python, sql]  \n",
       "7               [c++, python]  "
      ]
     },
     "execution_count": 16,
     "metadata": {},
     "output_type": "execute_result"
    }
   ],
   "source": [
    "# Convert the comma-separated string of languages to a list of string.\n",
    "# Remove 'ninguno de los anteriores' option, spaces and training commas.\n",
    "def split_languages(languages_str):\n",
    "  if not isinstance(languages_str, str):\n",
    "    return []\n",
    "  # Remove 'other' option\n",
    "  languages_str = languages_str.lower()\\\n",
    "    .replace('ninguno de los anteriores', '')\n",
    "  # Split string into list of items\n",
    "  # Remove spaces and commas for each item\n",
    "  return [lang.strip().replace(',', '')\n",
    "          for lang in languages_str.split()]\n",
    "\n",
    "# Create a new column with the list of languages\n",
    "df_filtered.loc[:, 'cured_programming_languages'] = df_filtered.tools_programming_languages\\\n",
    "    .apply(split_languages)\n",
    "if 'cured_programming_languages' not in relevant_columns:\n",
    "    relevant_columns.append('cured_programming_languages')\n",
    "\n",
    "# Duplicate each row of df for each programming language\n",
    "# mentioned in the response.\n",
    "# We only include in df_lang the columns we are going to analyze later, so we\n",
    "# don't duplicate innecesary information.\n",
    "df_lang = df_filtered.cured_programming_languages\\\n",
    "    .apply(pd.Series).stack()\\\n",
    "    .reset_index(level=-1, drop=True).to_frame()\\\n",
    "    .join(df_filtered[relevant_columns])\\\n",
    "    .rename(columns={0: 'programming_language'})\n",
    "# Horrible programming style! But a lot of data science code can be written with\n",
    "# as concatenations of functions (pipelines), and there's no elegant way of\n",
    "# doing that on Python.\n",
    "df_lang[:5]"
   ]
  },
  {
   "cell_type": "markdown",
   "metadata": {
    "id": "qm8NUg-7UEue"
   },
   "source": [
    "En la columna `programming_language` se encuentra cada lenguaje por separado. Notar que si una respuesta contenía 3 lenguajes, como `\"HTML, Javascript, Python\"`, la fila ha sido replicada 3 veces. Por ello, hay tres filas con índice 1."
   ]
  },
  {
   "cell_type": "code",
   "execution_count": 17,
   "metadata": {
    "colab": {
     "base_uri": "https://localhost:8080/",
     "height": 363
    },
    "id": "lNPb4tTvWCwv",
    "outputId": "495f9458-19b6-473d-8ab2-3a4eb8990b5c"
   },
   "outputs": [
    {
     "data": {
      "text/html": [
       "<div>\n",
       "<style scoped>\n",
       "    .dataframe tbody tr th:only-of-type {\n",
       "        vertical-align: middle;\n",
       "    }\n",
       "\n",
       "    .dataframe tbody tr th {\n",
       "        vertical-align: top;\n",
       "    }\n",
       "\n",
       "    .dataframe thead th {\n",
       "        text-align: right;\n",
       "    }\n",
       "</style>\n",
       "<table border=\"1\" class=\"dataframe\">\n",
       "  <thead>\n",
       "    <tr style=\"text-align: right;\">\n",
       "      <th></th>\n",
       "      <th>language</th>\n",
       "      <th>frequency</th>\n",
       "    </tr>\n",
       "  </thead>\n",
       "  <tbody>\n",
       "    <tr>\n",
       "      <th>0</th>\n",
       "      <td>sql</td>\n",
       "      <td>2088</td>\n",
       "    </tr>\n",
       "    <tr>\n",
       "      <th>1</th>\n",
       "      <td>javascript</td>\n",
       "      <td>1706</td>\n",
       "    </tr>\n",
       "    <tr>\n",
       "      <th>2</th>\n",
       "      <td>python</td>\n",
       "      <td>1507</td>\n",
       "    </tr>\n",
       "    <tr>\n",
       "      <th>3</th>\n",
       "      <td>html</td>\n",
       "      <td>1231</td>\n",
       "    </tr>\n",
       "    <tr>\n",
       "      <th>4</th>\n",
       "      <td>typescript</td>\n",
       "      <td>947</td>\n",
       "    </tr>\n",
       "    <tr>\n",
       "      <th>5</th>\n",
       "      <td>css</td>\n",
       "      <td>860</td>\n",
       "    </tr>\n",
       "    <tr>\n",
       "      <th>6</th>\n",
       "      <td>bash/shell</td>\n",
       "      <td>800</td>\n",
       "    </tr>\n",
       "    <tr>\n",
       "      <th>7</th>\n",
       "      <td>java</td>\n",
       "      <td>773</td>\n",
       "    </tr>\n",
       "    <tr>\n",
       "      <th>8</th>\n",
       "      <td>php</td>\n",
       "      <td>568</td>\n",
       "    </tr>\n",
       "    <tr>\n",
       "      <th>9</th>\n",
       "      <td>.net</td>\n",
       "      <td>544</td>\n",
       "    </tr>\n",
       "  </tbody>\n",
       "</table>\n",
       "</div>"
      ],
      "text/plain": [
       "     language  frequency\n",
       "0         sql       2088\n",
       "1  javascript       1706\n",
       "2      python       1507\n",
       "3        html       1231\n",
       "4  typescript        947\n",
       "5         css        860\n",
       "6  bash/shell        800\n",
       "7        java        773\n",
       "8         php        568\n",
       "9        .net        544"
      ]
     },
     "execution_count": 17,
     "metadata": {},
     "output_type": "execute_result"
    }
   ],
   "source": [
    "language_count = df_lang.programming_language.value_counts()\\\n",
    "    .reset_index()\\\n",
    "    .rename(columns={'programming_language': 'language', 'count': 'frequency'})\n",
    "    #.rename(columns={'index': 'language', 'programming_language': 'frequency'})\n",
    "language_count[:10]"
   ]
  },
  {
   "cell_type": "markdown",
   "metadata": {
    "id": "nThbJ1KeUgDo"
   },
   "source": [
    "## Filtrado de lenguajes relevantes\n",
    "\n",
    "El siguiente código permite seleccionar sólo las filas donde el valor de la columna `programming_language` se encuentre en la lista `interesting_languages`."
   ]
  },
  {
   "cell_type": "code",
   "execution_count": 18,
   "metadata": {},
   "outputs": [
    {
     "data": {
      "text/plain": [
       "['sql',\n",
       " 'javascript',\n",
       " 'python',\n",
       " 'html',\n",
       " 'typescript',\n",
       " 'css',\n",
       " 'bash/shell',\n",
       " 'java',\n",
       " 'php',\n",
       " '.net']"
      ]
     },
     "execution_count": 18,
     "metadata": {},
     "output_type": "execute_result"
    }
   ],
   "source": [
    "# En una primera instancia, podemos tomar como los lenguajes relevantes a los 10 más utilizados\n",
    "interesting_languages = language_count['language'].head(10).tolist()\n",
    "interesting_languages"
   ]
  },
  {
   "cell_type": "code",
   "execution_count": 19,
   "metadata": {
    "colab": {
     "base_uri": "https://localhost:8080/",
     "height": 206
    },
    "id": "DEpVptnLZUQU",
    "outputId": "ce0fdcb8-0ba5-4755-ab2c-21203a169e01"
   },
   "outputs": [
    {
     "data": {
      "text/html": [
       "<div>\n",
       "<style scoped>\n",
       "    .dataframe tbody tr th:only-of-type {\n",
       "        vertical-align: middle;\n",
       "    }\n",
       "\n",
       "    .dataframe tbody tr th {\n",
       "        vertical-align: top;\n",
       "    }\n",
       "\n",
       "    .dataframe thead th {\n",
       "        text-align: right;\n",
       "    }\n",
       "</style>\n",
       "<table border=\"1\" class=\"dataframe\">\n",
       "  <thead>\n",
       "    <tr style=\"text-align: right;\">\n",
       "      <th></th>\n",
       "      <th>programming_language</th>\n",
       "      <th>tools_programming_languages</th>\n",
       "      <th>salary_monthly_NETO</th>\n",
       "      <th>cured_programming_languages</th>\n",
       "    </tr>\n",
       "  </thead>\n",
       "  <tbody>\n",
       "    <tr>\n",
       "      <th>2</th>\n",
       "      <td>sql</td>\n",
       "      <td>SQL</td>\n",
       "      <td>3137662.0</td>\n",
       "      <td>[sql]</td>\n",
       "    </tr>\n",
       "    <tr>\n",
       "      <th>6</th>\n",
       "      <td>.net</td>\n",
       "      <td>.NET, Python, SQL</td>\n",
       "      <td>4000000.0</td>\n",
       "      <td>[.net, python, sql]</td>\n",
       "    </tr>\n",
       "    <tr>\n",
       "      <th>6</th>\n",
       "      <td>python</td>\n",
       "      <td>.NET, Python, SQL</td>\n",
       "      <td>4000000.0</td>\n",
       "      <td>[.net, python, sql]</td>\n",
       "    </tr>\n",
       "    <tr>\n",
       "      <th>6</th>\n",
       "      <td>sql</td>\n",
       "      <td>.NET, Python, SQL</td>\n",
       "      <td>4000000.0</td>\n",
       "      <td>[.net, python, sql]</td>\n",
       "    </tr>\n",
       "    <tr>\n",
       "      <th>7</th>\n",
       "      <td>python</td>\n",
       "      <td>C++, Python</td>\n",
       "      <td>3600000.0</td>\n",
       "      <td>[c++, python]</td>\n",
       "    </tr>\n",
       "  </tbody>\n",
       "</table>\n",
       "</div>"
      ],
      "text/plain": [
       "  programming_language tools_programming_languages  salary_monthly_NETO  \\\n",
       "2                  sql                         SQL            3137662.0   \n",
       "6                 .net           .NET, Python, SQL            4000000.0   \n",
       "6               python           .NET, Python, SQL            4000000.0   \n",
       "6                  sql           .NET, Python, SQL            4000000.0   \n",
       "7               python                 C++, Python            3600000.0   \n",
       "\n",
       "  cured_programming_languages  \n",
       "2                       [sql]  \n",
       "6         [.net, python, sql]  \n",
       "6         [.net, python, sql]  \n",
       "6         [.net, python, sql]  \n",
       "7               [c++, python]  "
      ]
     },
     "execution_count": 19,
     "metadata": {},
     "output_type": "execute_result"
    }
   ],
   "source": [
    "filtered_df_lang = df_lang[df_lang.programming_language.isin(interesting_languages)]\n",
    "filtered_df_lang[:5]"
   ]
  },
  {
   "cell_type": "code",
   "execution_count": 20,
   "metadata": {},
   "outputs": [],
   "source": [
    "# Para cada una de las otras columnas del punto anterior, elegir los rangos o valores seleccionan para incluir \n",
    "# en el análisis."
   ]
  },
  {
   "cell_type": "markdown",
   "metadata": {},
   "source": [
    "Ahora comencemos con el análisis de los datos. Como primera instancia, veremos un boxplot para saber de forma cualitativa cuánto gana la gente dependiendo en los lenguajes de propgramación."
   ]
  },
  {
   "cell_type": "code",
   "execution_count": 56,
   "metadata": {},
   "outputs": [
    {
     "data": {
      "image/png": "[encoded data removed]",
      "text/plain": [
       "<Figure size 1200x600 with 1 Axes>"
      ]
     },
     "metadata": {},
     "output_type": "display_data"
    }
   ],
   "source": [
    "plt.figure(figsize=(12, 6))\n",
    "seaborn.boxplot(data=filtered_df_lang, \n",
    "                x='salary_monthly_NETO', \n",
    "                y='programming_language',\n",
    "                hue='programming_language',\n",
    "                legend=False,\n",
    "                palette='Set2')\n",
    "plt.xlabel('Salario mensual NETO (promedio)')\n",
    "plt.ylabel('Lenguaje de programación')\n",
    "plt.title('Boxplot del salario promedio por lenguaje de programación')\n",
    "plt.ticklabel_format(style='plain', axis='x')"
   ]
  },
  {
   "cell_type": "markdown",
   "metadata": {},
   "source": [
    "También podemos graficar la media de sueldo neto para cada lenguaje"
   ]
  },
  {
   "cell_type": "code",
   "execution_count": 57,
   "metadata": {},
   "outputs": [
    {
     "data": {
      "image/png": "[encoded data removed]",
      "text/plain": [
       "<Figure size 1200x600 with 1 Axes>"
      ]
     },
     "metadata": {},
     "output_type": "display_data"
    }
   ],
   "source": [
    "# Agrupamos por lenguaje y calculamos la media de salario\n",
    "mean_salary_by_lang = (\n",
    "    filtered_df_lang\n",
    "    .groupby('programming_language')['salary_monthly_NETO']\n",
    "    .mean()\n",
    "    .sort_values(ascending=False)\n",
    ")\n",
    "# Creamos el gráfico de barras\n",
    "plt.figure(figsize=(12, 6))\n",
    "seaborn.barplot(\n",
    "    x=mean_salary_by_lang.values,\n",
    "    y=mean_salary_by_lang.index,\n",
    "    hue=mean_salary_by_lang.index,\n",
    "    palette='Set3',\n",
    ")\n",
    "# Etiquetas\n",
    "plt.xlabel('Salario mensual NETO (promedio)')\n",
    "plt.ylabel('Lenguaje de programación')\n",
    "plt.title('Salario promedio por lenguaje de programación')\n",
    "plt.grid(axis='x', linestyle='--', alpha=0.5)\n",
    "plt.tight_layout()\n",
    "plt.show()"
   ]
  },
  {
   "cell_type": "markdown",
   "metadata": {},
   "source": [
    "En este gráfico podemos ver que los lenguajes de programación con media más alta son typescript y java."
   ]
  },
  {
   "cell_type": "markdown",
   "metadata": {},
   "source": [
    "Veamos cual es la probabilidad de ganar por encima de la media (total)"
   ]
  },
  {
   "cell_type": "code",
   "execution_count": 58,
   "metadata": {},
   "outputs": [
    {
     "data": {
      "text/plain": [
       "2294445.391697544"
      ]
     },
     "execution_count": 58,
     "metadata": {},
     "output_type": "execute_result"
    }
   ],
   "source": [
    "# el salario medio entre todos los programadores (contando los lenguajes no relevantes) es\n",
    "mean_salary = df_filtered['salary_monthly_NETO'].mean()\n",
    "mean_salary"
   ]
  },
  {
   "cell_type": "code",
   "execution_count": 59,
   "metadata": {},
   "outputs": [
    {
     "data": {
      "text/plain": [
       "programming_language\n",
       ".net          0.404412\n",
       "bash/shell    0.467500\n",
       "css           0.310465\n",
       "html          0.346872\n",
       "java          0.503234\n",
       "javascript    0.402696\n",
       "php           0.353873\n",
       "python        0.466490\n",
       "sql           0.390805\n",
       "typescript    0.469905\n",
       "Name: salary_monthly_NETO, dtype: float64"
      ]
     },
     "execution_count": 59,
     "metadata": {},
     "output_type": "execute_result"
    }
   ],
   "source": [
    "# agrupamos por lenguaje de programación, para cada lenguaje toma la serie de 'salary_monthly_NETO'\n",
    "# compara el sueldo con la media y al plicar .mean() nos da la propoción de True\n",
    "probs = filtered_df_lang.groupby('programming_language')['salary_monthly_NETO'].apply(\n",
    "    lambda x: (x > mean_salary).mean()\n",
    ")\n",
    "# Luego probs nos da la probabilidad de ganar por encima de la media para cada lenguaje\n",
    "probs"
   ]
  },
  {
   "cell_type": "code",
   "execution_count": 60,
   "metadata": {},
   "outputs": [
    {
     "name": "stdout",
     "output_type": "stream",
     "text": [
      "El mínimo es:  css  con:  0.31046511627906975\n",
      "El máximo es:  java  con:  0.5032341526520052\n"
     ]
    }
   ],
   "source": [
    "# podemos obtener el mínimo y el máximo\n",
    "lang_min = probs.idxmin()\n",
    "prob_min = probs.min()\n",
    "lang_max = probs.idxmax()\n",
    "prob_max = probs.max()\n",
    "\n",
    "print(\"El mínimo es: \", lang_min, \" con: \", prob_min)\n",
    "print(\"El máximo es: \", lang_max, \" con: \", prob_max)"
   ]
  },
  {
   "cell_type": "markdown",
   "metadata": {},
   "source": [
    "Por lo tanto, observamos que el lenguaje de programación entre los 10 más usados con el que hay más probabilidades de ganar por encima de la media es java, con un 50,32%. Por otro lado, el lenguaje con el que hay menos probabilidades de ganar por encima de la media es css, con un 31,04%."
   ]
  },
  {
   "cell_type": "markdown",
   "metadata": {},
   "source": [
    "Podemos ahora ver que lenguaje utiliza la gente que más plata gana. Para eso podemos ver cuanta gente gana por encima del percentil 90 dependiendo el lenguaje."
   ]
  },
  {
   "cell_type": "code",
   "execution_count": 61,
   "metadata": {},
   "outputs": [
    {
     "data": {
      "text/plain": [
       "4000000.0"
      ]
     },
     "execution_count": 61,
     "metadata": {},
     "output_type": "execute_result"
    }
   ],
   "source": [
    "# Lo hacemos de manera similar a lo de la media\n",
    "percentil_90 = df_filtered['salary_monthly_NETO'].quantile(0.90)\n",
    "percentil_90"
   ]
  },
  {
   "cell_type": "code",
   "execution_count": 62,
   "metadata": {},
   "outputs": [
    {
     "data": {
      "text/plain": [
       "programming_language\n",
       ".net          0.079044\n",
       "bash/shell    0.132500\n",
       "css           0.086047\n",
       "html          0.085297\n",
       "java          0.125485\n",
       "javascript    0.113716\n",
       "php           0.105634\n",
       "python        0.118115\n",
       "sql           0.095307\n",
       "typescript    0.141499\n",
       "Name: salary_monthly_NETO, dtype: float64"
      ]
     },
     "execution_count": 62,
     "metadata": {},
     "output_type": "execute_result"
    }
   ],
   "source": [
    "probs_90 = filtered_df_lang.groupby('programming_language')['salary_monthly_NETO'].apply(\n",
    "    lambda x: (x > percentil_90).mean()\n",
    ")\n",
    "probs_90"
   ]
  },
  {
   "cell_type": "code",
   "execution_count": 63,
   "metadata": {},
   "outputs": [
    {
     "name": "stdout",
     "output_type": "stream",
     "text": [
      "El mínimo es:  .net  con:  0.07904411764705882\n",
      "El máximo es:  typescript  con:  0.14149947201689547\n"
     ]
    }
   ],
   "source": [
    "# podemos obtener el mínimo y el máximo\n",
    "lang_min_90 = probs_90.idxmin()\n",
    "prob_min_90 = probs_90.min()\n",
    "lang_max_90 = probs_90.idxmax()\n",
    "prob_max_90 = probs_90.max()\n",
    "\n",
    "print(\"El mínimo es: \", lang_min_90, \" con: \", prob_min_90)\n",
    "print(\"El máximo es: \", lang_max_90, \" con: \", prob_max_90)"
   ]
  },
  {
   "cell_type": "markdown",
   "metadata": {},
   "source": [
    "Por lo tanto, observamos que el lenguaje de programación entre los 10 más usados con el que hay más probabilidades de ganar por encima del percentil 90 es typescript, con un 14,15%. Por otro lado, el lenguaje con el que hay menos probabilidades de ganar por encima del percentil 90 es .net, con un 7,90%."
   ]
  },
  {
   "cell_type": "markdown",
   "metadata": {},
   "source": [
    "Podemos hacer un análisis un poco más profundo y ver cuanto cambia el salario si la gente sabe un solo lenguaje de programación o más de uno."
   ]
  },
  {
   "cell_type": "code",
   "execution_count": 64,
   "metadata": {},
   "outputs": [
    {
     "data": {
      "text/html": [
       "<div>\n",
       "<style scoped>\n",
       "    .dataframe tbody tr th:only-of-type {\n",
       "        vertical-align: middle;\n",
       "    }\n",
       "\n",
       "    .dataframe tbody tr th {\n",
       "        vertical-align: top;\n",
       "    }\n",
       "\n",
       "    .dataframe thead th {\n",
       "        text-align: right;\n",
       "    }\n",
       "</style>\n",
       "<table border=\"1\" class=\"dataframe\">\n",
       "  <thead>\n",
       "    <tr style=\"text-align: right;\">\n",
       "      <th></th>\n",
       "      <th>cured_programming_languages</th>\n",
       "      <th>salary_monthly_NETO</th>\n",
       "    </tr>\n",
       "  </thead>\n",
       "  <tbody>\n",
       "    <tr>\n",
       "      <th>2</th>\n",
       "      <td>[sql]</td>\n",
       "      <td>3137662.0</td>\n",
       "    </tr>\n",
       "    <tr>\n",
       "      <th>5</th>\n",
       "      <td>[]</td>\n",
       "      <td>2167989.0</td>\n",
       "    </tr>\n",
       "    <tr>\n",
       "      <th>6</th>\n",
       "      <td>[.net, python, sql]</td>\n",
       "      <td>4000000.0</td>\n",
       "    </tr>\n",
       "    <tr>\n",
       "      <th>7</th>\n",
       "      <td>[c++, python]</td>\n",
       "      <td>3600000.0</td>\n",
       "    </tr>\n",
       "    <tr>\n",
       "      <th>8</th>\n",
       "      <td>[html, php]</td>\n",
       "      <td>2000000.0</td>\n",
       "    </tr>\n",
       "  </tbody>\n",
       "</table>\n",
       "</div>"
      ],
      "text/plain": [
       "  cured_programming_languages  salary_monthly_NETO\n",
       "2                       [sql]            3137662.0\n",
       "5                          []            2167989.0\n",
       "6         [.net, python, sql]            4000000.0\n",
       "7               [c++, python]            3600000.0\n",
       "8                 [html, php]            2000000.0"
      ]
     },
     "execution_count": 64,
     "metadata": {},
     "output_type": "execute_result"
    }
   ],
   "source": [
    "# Crear nuevo DataFrame que copia los lenguajes y el salario de df_filtered (que habia hecho el proceso\n",
    "# de 'cured_programming_languages' pero no duplicó los datos como en df_lang\n",
    "df_number_lang = df_filtered[['cured_programming_languages', 'salary_monthly_NETO']].copy()\n",
    "df_number_lang[:5]"
   ]
  },
  {
   "cell_type": "code",
   "execution_count": 65,
   "metadata": {},
   "outputs": [
    {
     "data": {
      "text/html": [
       "<div>\n",
       "<style scoped>\n",
       "    .dataframe tbody tr th:only-of-type {\n",
       "        vertical-align: middle;\n",
       "    }\n",
       "\n",
       "    .dataframe tbody tr th {\n",
       "        vertical-align: top;\n",
       "    }\n",
       "\n",
       "    .dataframe thead th {\n",
       "        text-align: right;\n",
       "    }\n",
       "</style>\n",
       "<table border=\"1\" class=\"dataframe\">\n",
       "  <thead>\n",
       "    <tr style=\"text-align: right;\">\n",
       "      <th></th>\n",
       "      <th>cured_programming_languages</th>\n",
       "      <th>salary_monthly_NETO</th>\n",
       "    </tr>\n",
       "  </thead>\n",
       "  <tbody>\n",
       "    <tr>\n",
       "      <th>2</th>\n",
       "      <td>[sql]</td>\n",
       "      <td>3137662.00</td>\n",
       "    </tr>\n",
       "    <tr>\n",
       "      <th>6</th>\n",
       "      <td>[.net, python, sql]</td>\n",
       "      <td>4000000.00</td>\n",
       "    </tr>\n",
       "    <tr>\n",
       "      <th>7</th>\n",
       "      <td>[c++, python]</td>\n",
       "      <td>3600000.00</td>\n",
       "    </tr>\n",
       "    <tr>\n",
       "      <th>8</th>\n",
       "      <td>[html, php]</td>\n",
       "      <td>2000000.00</td>\n",
       "    </tr>\n",
       "    <tr>\n",
       "      <th>9</th>\n",
       "      <td>[bash/shell, python, sql]</td>\n",
       "      <td>3258576.49</td>\n",
       "    </tr>\n",
       "  </tbody>\n",
       "</table>\n",
       "</div>"
      ],
      "text/plain": [
       "  cured_programming_languages  salary_monthly_NETO\n",
       "2                       [sql]           3137662.00\n",
       "6         [.net, python, sql]           4000000.00\n",
       "7               [c++, python]           3600000.00\n",
       "8                 [html, php]           2000000.00\n",
       "9   [bash/shell, python, sql]           3258576.49"
      ]
     },
     "execution_count": 65,
     "metadata": {},
     "output_type": "execute_result"
    }
   ],
   "source": [
    "# Notemos que este DataFrame no tiene filtrados los lenguajes interesantes.\n",
    "# Hacemos una función que verifica si hay al menos un lenguaje interesante en la lista\n",
    "def has_interesting_language(lang_list):\n",
    "    return any(lang in interesting_languages for lang in lang_list) # devuelve True si hay lenguaje interesante\n",
    "\n",
    "# Filtramos por las filas en df_number_lang que tienen al menos un lenguaje interesante\n",
    "filtered_df_number_lang = df_number_lang[df_number_lang['cured_programming_languages'].apply(has_interesting_language)]\n",
    "filtered_df_number_lang[:5]"
   ]
  },
  {
   "cell_type": "code",
   "execution_count": 66,
   "metadata": {},
   "outputs": [
    {
     "data": {
      "text/html": [
       "<div>\n",
       "<style scoped>\n",
       "    .dataframe tbody tr th:only-of-type {\n",
       "        vertical-align: middle;\n",
       "    }\n",
       "\n",
       "    .dataframe tbody tr th {\n",
       "        vertical-align: top;\n",
       "    }\n",
       "\n",
       "    .dataframe thead th {\n",
       "        text-align: right;\n",
       "    }\n",
       "</style>\n",
       "<table border=\"1\" class=\"dataframe\">\n",
       "  <thead>\n",
       "    <tr style=\"text-align: right;\">\n",
       "      <th></th>\n",
       "      <th>cured_programming_languages</th>\n",
       "      <th>salary_monthly_NETO</th>\n",
       "      <th>more_one_language</th>\n",
       "      <th>higher_mean_salary</th>\n",
       "    </tr>\n",
       "  </thead>\n",
       "  <tbody>\n",
       "    <tr>\n",
       "      <th>2</th>\n",
       "      <td>[sql]</td>\n",
       "      <td>3137662.00</td>\n",
       "      <td>False</td>\n",
       "      <td>True</td>\n",
       "    </tr>\n",
       "    <tr>\n",
       "      <th>6</th>\n",
       "      <td>[.net, python, sql]</td>\n",
       "      <td>4000000.00</td>\n",
       "      <td>True</td>\n",
       "      <td>True</td>\n",
       "    </tr>\n",
       "    <tr>\n",
       "      <th>7</th>\n",
       "      <td>[c++, python]</td>\n",
       "      <td>3600000.00</td>\n",
       "      <td>True</td>\n",
       "      <td>True</td>\n",
       "    </tr>\n",
       "    <tr>\n",
       "      <th>8</th>\n",
       "      <td>[html, php]</td>\n",
       "      <td>2000000.00</td>\n",
       "      <td>True</td>\n",
       "      <td>False</td>\n",
       "    </tr>\n",
       "    <tr>\n",
       "      <th>9</th>\n",
       "      <td>[bash/shell, python, sql]</td>\n",
       "      <td>3258576.49</td>\n",
       "      <td>True</td>\n",
       "      <td>True</td>\n",
       "    </tr>\n",
       "  </tbody>\n",
       "</table>\n",
       "</div>"
      ],
      "text/plain": [
       "  cured_programming_languages  salary_monthly_NETO  more_one_language  \\\n",
       "2                       [sql]           3137662.00              False   \n",
       "6         [.net, python, sql]           4000000.00               True   \n",
       "7               [c++, python]           3600000.00               True   \n",
       "8                 [html, php]           2000000.00               True   \n",
       "9   [bash/shell, python, sql]           3258576.49               True   \n",
       "\n",
       "   higher_mean_salary  \n",
       "2                True  \n",
       "6                True  \n",
       "7                True  \n",
       "8               False  \n",
       "9                True  "
      ]
     },
     "execution_count": 66,
     "metadata": {},
     "output_type": "execute_result"
    }
   ],
   "source": [
    "filtered_df_number_lang = filtered_df_number_lang.copy()\n",
    "# Marcar si la persona sabe más de un lenguaje\n",
    "\n",
    "# Función auxiliar para saber si hay más de un lenguaje\n",
    "def knows_more_than_one(langs):\n",
    "    return len(langs) > 1\n",
    "\n",
    "# Aplicar la función\n",
    "filtered_df_number_lang.loc[:, 'more_one_language'] = \\\n",
    "    filtered_df_number_lang['cured_programming_languages'].apply(knows_more_than_one)\n",
    "\n",
    "# Calcular sueldos altos\n",
    "filtered_df_number_lang.loc[:, 'higher_mean_salary'] = filtered_df_number_lang['salary_monthly_NETO'] > mean_salary\n",
    "\n",
    "filtered_df_number_lang[:5]"
   ]
  },
  {
   "cell_type": "code",
   "execution_count": 67,
   "metadata": {},
   "outputs": [
    {
     "data": {
      "text/plain": [
       "more_one_language\n",
       "False    0.327119\n",
       "True     0.420951\n",
       "Name: higher_mean_salary, dtype: float64"
      ]
     },
     "execution_count": 67,
     "metadata": {},
     "output_type": "execute_result"
    }
   ],
   "source": [
    "# Agrupamos y calculamos proporción\n",
    "probs_by_lang_count = filtered_df_number_lang.groupby('more_one_language')['higher_mean_salary'].mean()\n",
    "probs_by_lang_count"
   ]
  },
  {
   "cell_type": "markdown",
   "metadata": {},
   "source": [
    "La probabilidad de ganar más que la media sabiendo 1 lenguaje es del 33% mientras que sabiendo más de uno es del 41,32%.\n",
    "\n",
    "Para visualizar mejor estos datos, hagamos un boxplot."
   ]
  },
  {
   "cell_type": "code",
   "execution_count": 69,
   "metadata": {},
   "outputs": [
    {
     "data": {
      "image/png": "[encoded data removed]",
      "text/plain": [
       "<Figure size 1200x600 with 1 Axes>"
      ]
     },
     "metadata": {},
     "output_type": "display_data"
    }
   ],
   "source": [
    "plt.figure(figsize=(12, 6))\n",
    "filtered_df_number_lang['more_one_language'] = filtered_df_number_lang['more_one_language'].astype('category')\n",
    "seaborn.boxplot(data=filtered_df_number_lang, \n",
    "                x='salary_monthly_NETO', \n",
    "                y='more_one_language',\n",
    "                hue='more_one_language',\n",
    "                legend=False,\n",
    "                palette='Set2')\n",
    "plt.xlabel('Salario mensual NETO (promedio)')\n",
    "plt.ylabel('¿Conoce más de un lenguaje?')\n",
    "plt.title('Boxplot del salario según si se conoce más de un lenguaje')\n",
    "plt.ticklabel_format(style='plain', axis='x')"
   ]
  },
  {
   "cell_type": "markdown",
   "metadata": {},
   "source": [
    "En conclusión, los lenguajes de programación que muestran mayor utilidad en términos salariales son Java y TypeScript. Ambos presentan las medias salariales más elevadas. Por un lado, Java es el lenguaje que ofrece la mayor probabilidad de ganar por encima del salario medio. Por otro lado, TypeScript es el lenguaje más común entre quienes se encuentran por encima del percentil 99 de ingreso.\n",
    "\n",
    "También observamos que CSS no parece ser un lenguaje particularmente valorado en el mercado, al menos en términos de salario. Es el que presenta la media más baja entre los diez lenguajes más utilizados y la menor probabilidad de alcanzar o superar la media salarial.\n",
    "\n",
    "Por último, nuestros datos indican que conocer más de un lenguaje de programación se asocia con mayores ingresos."
   ]
  },
  {
   "cell_type": "markdown",
   "metadata": {
    "id": "tWo8SmmC9FAk"
   },
   "source": [
    "# Ejercicio 2 - Densidades y varias variables\n",
    "\n",
    "Responder a la pregunta general: **¿Que herramientas (prácticas y teóricas) són útiles para explorar la base, descubrir patrones, asociaciones?**\n",
    "\n",
    "Para ello considere (igual al ejercicio Anterior):\n",
    "1. Seleccionar las columnas relevantes para analizar.\n",
    "2. Seleccionar las filas relevantes para analizar. Esto incluye la eliminación de valores extremos y erróneos, pero también puede enfocar el análisis en sub-poblaciones."
   ]
  },
  {
   "cell_type": "markdown",
   "metadata": {
    "id": "5baYhH0XHM3S"
   },
   "source": [
    "## a) Densidad conjunta\n",
    "\n",
    "Que herramientas visuales y modelos puede utilizar para estudiar la distribución y comportamiento de sus datos?\n",
    "\n",
    "Elija tres variables numéricas y 2 variables categóricas. Visualice la base según varias de las variables elegidas. Puede describir de alguna forma el comportamiento de sus datos? Que herramientas utilizaría? Describa\n",
    "\n",
    "\n"
   ]
  },
  {
   "cell_type": "markdown",
   "metadata": {
    "id": "lkuHE2aZGHMO"
   },
   "source": [
    "## b) Asociación\n",
    "\n",
    "* Necesitamos decidir si sacar o no la columna de salario bruto. Para hacer la encuesta más simple.\n",
    "¿Existe una correlación entre el salario bruto y el neto? Que abordaje y medidas usaría\n",
    "\n"
   ]
  },
  {
   "cell_type": "markdown",
   "metadata": {
    "id": "7MZrbRJCm-ae"
   },
   "source": [
    "## c) Densidad condicional\n",
    "\n",
    "Estudie la distribución del salario según el nivel de estudio.\n",
    "\n",
    "Separe la población según el nivel de estudio (elija dos subpoblaciones numerosas) y grafique de manera comparativa ambos histogramas de la variable `'salary_monthly_NETO'`\n",
    "¿Considera que ambas variables son independientes?\n",
    "¿Qué analizaría al respecto?\n",
    "\n",
    "Calcule medidas de centralización y dispersión para cada subpoblación\n",
    "\n",
    "\n",
    "\n",
    "\n"
   ]
  },
  {
   "cell_type": "markdown",
   "metadata": {
    "id": "u8wgYxNiqVpE"
   },
   "source": [
    "## d) Densidad Conjunta condicional\n",
    "\n",
    "Elija dos variables numéricas y una categórica.\n",
    "Estudie la dispersión (scatterplot) de las dos variables discriminando en color por la variable categórica (ayuda: hue en seaborn)\n"
   ]
  }
 ],
 "metadata": {
  "colab": {
   "provenance": []
  },
  "kernelspec": {
   "display_name": "Python [conda env:env-diplodatos-ayvd] *",
   "language": "python",
   "name": "conda-env-env-diplodatos-ayvd-py"
  },
  "language_info": {
   "codemirror_mode": {
    "name": "ipython",
    "version": 3
   },
   "file_extension": ".py",
   "mimetype": "text/x-python",
   "name": "python",
   "nbconvert_exporter": "python",
   "pygments_lexer": "ipython3",
   "version": "3.10.16"
  }
 },
 "nbformat": 4,
 "nbformat_minor": 4
}
